{
 "cells": [
  {
   "cell_type": "markdown",
   "metadata": {},
   "source": [
    "## Подготовка данных"
   ]
  },
  {
   "cell_type": "code",
   "execution_count": 1,
   "metadata": {},
   "outputs": [],
   "source": [
    "import pandas as pd\n",
    "from sklearn.preprocessing import StandardScaler\n",
    "from sklearn.model_selection import train_test_split\n",
    "from sklearn.metrics import f1_score\n",
    "from sklearn.ensemble import RandomForestClassifier\n",
    "import matplotlib.pyplot as plt\n",
    "import warnings\n",
    "import seaborn as sns\n",
    "from sklearn.metrics import roc_curve\n",
    "from sklearn.metrics import roc_auc_score\n",
    "from sklearn.utils import shuffle\n",
    "from sklearn.linear_model import LogisticRegression\n",
    "from sklearn.metrics import precision_score, recall_score\n",
    "import numpy as np\n",
    "\n",
    "\n",
    "warnings.filterwarnings('ignore')\n",
    "pd.options.mode.chained_assignment = None"
   ]
  },
  {
   "cell_type": "code",
   "execution_count": 2,
   "metadata": {
    "scrolled": true
   },
   "outputs": [
    {
     "name": "stdout",
     "output_type": "stream",
     "text": [
      "<class 'pandas.core.frame.DataFrame'>\n",
      "RangeIndex: 10000 entries, 0 to 9999\n",
      "Data columns (total 14 columns):\n",
      " #   Column           Non-Null Count  Dtype  \n",
      "---  ------           --------------  -----  \n",
      " 0   RowNumber        10000 non-null  int64  \n",
      " 1   CustomerId       10000 non-null  int64  \n",
      " 2   Surname          10000 non-null  object \n",
      " 3   CreditScore      10000 non-null  int64  \n",
      " 4   Geography        10000 non-null  object \n",
      " 5   Gender           10000 non-null  object \n",
      " 6   Age              10000 non-null  int64  \n",
      " 7   Tenure           9091 non-null   float64\n",
      " 8   Balance          10000 non-null  float64\n",
      " 9   NumOfProducts    10000 non-null  int64  \n",
      " 10  HasCrCard        10000 non-null  int64  \n",
      " 11  IsActiveMember   10000 non-null  int64  \n",
      " 12  EstimatedSalary  10000 non-null  float64\n",
      " 13  Exited           10000 non-null  int64  \n",
      "dtypes: float64(3), int64(8), object(3)\n",
      "memory usage: 1.1+ MB\n"
     ]
    },
    {
     "data": {
      "text/html": [
       "<div>\n",
       "<style scoped>\n",
       "    .dataframe tbody tr th:only-of-type {\n",
       "        vertical-align: middle;\n",
       "    }\n",
       "\n",
       "    .dataframe tbody tr th {\n",
       "        vertical-align: top;\n",
       "    }\n",
       "\n",
       "    .dataframe thead th {\n",
       "        text-align: right;\n",
       "    }\n",
       "</style>\n",
       "<table border=\"1\" class=\"dataframe\">\n",
       "  <thead>\n",
       "    <tr style=\"text-align: right;\">\n",
       "      <th></th>\n",
       "      <th>RowNumber</th>\n",
       "      <th>CustomerId</th>\n",
       "      <th>Surname</th>\n",
       "      <th>CreditScore</th>\n",
       "      <th>Geography</th>\n",
       "      <th>Gender</th>\n",
       "      <th>Age</th>\n",
       "      <th>Tenure</th>\n",
       "      <th>Balance</th>\n",
       "      <th>NumOfProducts</th>\n",
       "      <th>HasCrCard</th>\n",
       "      <th>IsActiveMember</th>\n",
       "      <th>EstimatedSalary</th>\n",
       "      <th>Exited</th>\n",
       "    </tr>\n",
       "  </thead>\n",
       "  <tbody>\n",
       "    <tr>\n",
       "      <th>0</th>\n",
       "      <td>1</td>\n",
       "      <td>15634602</td>\n",
       "      <td>Hargrave</td>\n",
       "      <td>619</td>\n",
       "      <td>France</td>\n",
       "      <td>Female</td>\n",
       "      <td>42</td>\n",
       "      <td>2.0</td>\n",
       "      <td>0.00</td>\n",
       "      <td>1</td>\n",
       "      <td>1</td>\n",
       "      <td>1</td>\n",
       "      <td>101348.88</td>\n",
       "      <td>1</td>\n",
       "    </tr>\n",
       "    <tr>\n",
       "      <th>1</th>\n",
       "      <td>2</td>\n",
       "      <td>15647311</td>\n",
       "      <td>Hill</td>\n",
       "      <td>608</td>\n",
       "      <td>Spain</td>\n",
       "      <td>Female</td>\n",
       "      <td>41</td>\n",
       "      <td>1.0</td>\n",
       "      <td>83807.86</td>\n",
       "      <td>1</td>\n",
       "      <td>0</td>\n",
       "      <td>1</td>\n",
       "      <td>112542.58</td>\n",
       "      <td>0</td>\n",
       "    </tr>\n",
       "    <tr>\n",
       "      <th>2</th>\n",
       "      <td>3</td>\n",
       "      <td>15619304</td>\n",
       "      <td>Onio</td>\n",
       "      <td>502</td>\n",
       "      <td>France</td>\n",
       "      <td>Female</td>\n",
       "      <td>42</td>\n",
       "      <td>8.0</td>\n",
       "      <td>159660.80</td>\n",
       "      <td>3</td>\n",
       "      <td>1</td>\n",
       "      <td>0</td>\n",
       "      <td>113931.57</td>\n",
       "      <td>1</td>\n",
       "    </tr>\n",
       "    <tr>\n",
       "      <th>3</th>\n",
       "      <td>4</td>\n",
       "      <td>15701354</td>\n",
       "      <td>Boni</td>\n",
       "      <td>699</td>\n",
       "      <td>France</td>\n",
       "      <td>Female</td>\n",
       "      <td>39</td>\n",
       "      <td>1.0</td>\n",
       "      <td>0.00</td>\n",
       "      <td>2</td>\n",
       "      <td>0</td>\n",
       "      <td>0</td>\n",
       "      <td>93826.63</td>\n",
       "      <td>0</td>\n",
       "    </tr>\n",
       "    <tr>\n",
       "      <th>4</th>\n",
       "      <td>5</td>\n",
       "      <td>15737888</td>\n",
       "      <td>Mitchell</td>\n",
       "      <td>850</td>\n",
       "      <td>Spain</td>\n",
       "      <td>Female</td>\n",
       "      <td>43</td>\n",
       "      <td>2.0</td>\n",
       "      <td>125510.82</td>\n",
       "      <td>1</td>\n",
       "      <td>1</td>\n",
       "      <td>1</td>\n",
       "      <td>79084.10</td>\n",
       "      <td>0</td>\n",
       "    </tr>\n",
       "    <tr>\n",
       "      <th>...</th>\n",
       "      <td>...</td>\n",
       "      <td>...</td>\n",
       "      <td>...</td>\n",
       "      <td>...</td>\n",
       "      <td>...</td>\n",
       "      <td>...</td>\n",
       "      <td>...</td>\n",
       "      <td>...</td>\n",
       "      <td>...</td>\n",
       "      <td>...</td>\n",
       "      <td>...</td>\n",
       "      <td>...</td>\n",
       "      <td>...</td>\n",
       "      <td>...</td>\n",
       "    </tr>\n",
       "    <tr>\n",
       "      <th>9995</th>\n",
       "      <td>9996</td>\n",
       "      <td>15606229</td>\n",
       "      <td>Obijiaku</td>\n",
       "      <td>771</td>\n",
       "      <td>France</td>\n",
       "      <td>Male</td>\n",
       "      <td>39</td>\n",
       "      <td>5.0</td>\n",
       "      <td>0.00</td>\n",
       "      <td>2</td>\n",
       "      <td>1</td>\n",
       "      <td>0</td>\n",
       "      <td>96270.64</td>\n",
       "      <td>0</td>\n",
       "    </tr>\n",
       "    <tr>\n",
       "      <th>9996</th>\n",
       "      <td>9997</td>\n",
       "      <td>15569892</td>\n",
       "      <td>Johnstone</td>\n",
       "      <td>516</td>\n",
       "      <td>France</td>\n",
       "      <td>Male</td>\n",
       "      <td>35</td>\n",
       "      <td>10.0</td>\n",
       "      <td>57369.61</td>\n",
       "      <td>1</td>\n",
       "      <td>1</td>\n",
       "      <td>1</td>\n",
       "      <td>101699.77</td>\n",
       "      <td>0</td>\n",
       "    </tr>\n",
       "    <tr>\n",
       "      <th>9997</th>\n",
       "      <td>9998</td>\n",
       "      <td>15584532</td>\n",
       "      <td>Liu</td>\n",
       "      <td>709</td>\n",
       "      <td>France</td>\n",
       "      <td>Female</td>\n",
       "      <td>36</td>\n",
       "      <td>7.0</td>\n",
       "      <td>0.00</td>\n",
       "      <td>1</td>\n",
       "      <td>0</td>\n",
       "      <td>1</td>\n",
       "      <td>42085.58</td>\n",
       "      <td>1</td>\n",
       "    </tr>\n",
       "    <tr>\n",
       "      <th>9998</th>\n",
       "      <td>9999</td>\n",
       "      <td>15682355</td>\n",
       "      <td>Sabbatini</td>\n",
       "      <td>772</td>\n",
       "      <td>Germany</td>\n",
       "      <td>Male</td>\n",
       "      <td>42</td>\n",
       "      <td>3.0</td>\n",
       "      <td>75075.31</td>\n",
       "      <td>2</td>\n",
       "      <td>1</td>\n",
       "      <td>0</td>\n",
       "      <td>92888.52</td>\n",
       "      <td>1</td>\n",
       "    </tr>\n",
       "    <tr>\n",
       "      <th>9999</th>\n",
       "      <td>10000</td>\n",
       "      <td>15628319</td>\n",
       "      <td>Walker</td>\n",
       "      <td>792</td>\n",
       "      <td>France</td>\n",
       "      <td>Female</td>\n",
       "      <td>28</td>\n",
       "      <td>NaN</td>\n",
       "      <td>130142.79</td>\n",
       "      <td>1</td>\n",
       "      <td>1</td>\n",
       "      <td>0</td>\n",
       "      <td>38190.78</td>\n",
       "      <td>0</td>\n",
       "    </tr>\n",
       "  </tbody>\n",
       "</table>\n",
       "<p>10000 rows × 14 columns</p>\n",
       "</div>"
      ],
      "text/plain": [
       "      RowNumber  CustomerId    Surname  CreditScore Geography  Gender  Age  \\\n",
       "0             1    15634602   Hargrave          619    France  Female   42   \n",
       "1             2    15647311       Hill          608     Spain  Female   41   \n",
       "2             3    15619304       Onio          502    France  Female   42   \n",
       "3             4    15701354       Boni          699    France  Female   39   \n",
       "4             5    15737888   Mitchell          850     Spain  Female   43   \n",
       "...         ...         ...        ...          ...       ...     ...  ...   \n",
       "9995       9996    15606229   Obijiaku          771    France    Male   39   \n",
       "9996       9997    15569892  Johnstone          516    France    Male   35   \n",
       "9997       9998    15584532        Liu          709    France  Female   36   \n",
       "9998       9999    15682355  Sabbatini          772   Germany    Male   42   \n",
       "9999      10000    15628319     Walker          792    France  Female   28   \n",
       "\n",
       "      Tenure    Balance  NumOfProducts  HasCrCard  IsActiveMember  \\\n",
       "0        2.0       0.00              1          1               1   \n",
       "1        1.0   83807.86              1          0               1   \n",
       "2        8.0  159660.80              3          1               0   \n",
       "3        1.0       0.00              2          0               0   \n",
       "4        2.0  125510.82              1          1               1   \n",
       "...      ...        ...            ...        ...             ...   \n",
       "9995     5.0       0.00              2          1               0   \n",
       "9996    10.0   57369.61              1          1               1   \n",
       "9997     7.0       0.00              1          0               1   \n",
       "9998     3.0   75075.31              2          1               0   \n",
       "9999     NaN  130142.79              1          1               0   \n",
       "\n",
       "      EstimatedSalary  Exited  \n",
       "0           101348.88       1  \n",
       "1           112542.58       0  \n",
       "2           113931.57       1  \n",
       "3            93826.63       0  \n",
       "4            79084.10       0  \n",
       "...               ...     ...  \n",
       "9995         96270.64       0  \n",
       "9996        101699.77       0  \n",
       "9997         42085.58       1  \n",
       "9998         92888.52       1  \n",
       "9999         38190.78       0  \n",
       "\n",
       "[10000 rows x 14 columns]"
      ]
     },
     "execution_count": 2,
     "metadata": {},
     "output_type": "execute_result"
    }
   ],
   "source": [
    "data = pd.read_csv('./datasets/Churn.csv')\n",
    "data.info()\n",
    "data"
   ]
  },
  {
   "cell_type": "markdown",
   "metadata": {},
   "source": [
    "Скачали данные. Столбец с фамилией клиентов можем отбросить, как и столбец с индексом строки, в силу ненадобности. "
   ]
  },
  {
   "cell_type": "code",
   "execution_count": 3,
   "metadata": {},
   "outputs": [
    {
     "data": {
      "text/html": [
       "<div>\n",
       "<style scoped>\n",
       "    .dataframe tbody tr th:only-of-type {\n",
       "        vertical-align: middle;\n",
       "    }\n",
       "\n",
       "    .dataframe tbody tr th {\n",
       "        vertical-align: top;\n",
       "    }\n",
       "\n",
       "    .dataframe thead th {\n",
       "        text-align: right;\n",
       "    }\n",
       "</style>\n",
       "<table border=\"1\" class=\"dataframe\">\n",
       "  <thead>\n",
       "    <tr style=\"text-align: right;\">\n",
       "      <th></th>\n",
       "      <th>CustomerId</th>\n",
       "      <th>CreditScore</th>\n",
       "      <th>Geography</th>\n",
       "      <th>Gender</th>\n",
       "      <th>Age</th>\n",
       "      <th>Tenure</th>\n",
       "      <th>Balance</th>\n",
       "      <th>NumOfProducts</th>\n",
       "      <th>HasCrCard</th>\n",
       "      <th>IsActiveMember</th>\n",
       "      <th>EstimatedSalary</th>\n",
       "      <th>Exited</th>\n",
       "    </tr>\n",
       "  </thead>\n",
       "  <tbody>\n",
       "    <tr>\n",
       "      <th>0</th>\n",
       "      <td>15634602</td>\n",
       "      <td>619</td>\n",
       "      <td>France</td>\n",
       "      <td>Female</td>\n",
       "      <td>42</td>\n",
       "      <td>2.0</td>\n",
       "      <td>0.00</td>\n",
       "      <td>1</td>\n",
       "      <td>1</td>\n",
       "      <td>1</td>\n",
       "      <td>101348.88</td>\n",
       "      <td>1</td>\n",
       "    </tr>\n",
       "    <tr>\n",
       "      <th>1</th>\n",
       "      <td>15647311</td>\n",
       "      <td>608</td>\n",
       "      <td>Spain</td>\n",
       "      <td>Female</td>\n",
       "      <td>41</td>\n",
       "      <td>1.0</td>\n",
       "      <td>83807.86</td>\n",
       "      <td>1</td>\n",
       "      <td>0</td>\n",
       "      <td>1</td>\n",
       "      <td>112542.58</td>\n",
       "      <td>0</td>\n",
       "    </tr>\n",
       "    <tr>\n",
       "      <th>2</th>\n",
       "      <td>15619304</td>\n",
       "      <td>502</td>\n",
       "      <td>France</td>\n",
       "      <td>Female</td>\n",
       "      <td>42</td>\n",
       "      <td>8.0</td>\n",
       "      <td>159660.80</td>\n",
       "      <td>3</td>\n",
       "      <td>1</td>\n",
       "      <td>0</td>\n",
       "      <td>113931.57</td>\n",
       "      <td>1</td>\n",
       "    </tr>\n",
       "    <tr>\n",
       "      <th>3</th>\n",
       "      <td>15701354</td>\n",
       "      <td>699</td>\n",
       "      <td>France</td>\n",
       "      <td>Female</td>\n",
       "      <td>39</td>\n",
       "      <td>1.0</td>\n",
       "      <td>0.00</td>\n",
       "      <td>2</td>\n",
       "      <td>0</td>\n",
       "      <td>0</td>\n",
       "      <td>93826.63</td>\n",
       "      <td>0</td>\n",
       "    </tr>\n",
       "    <tr>\n",
       "      <th>4</th>\n",
       "      <td>15737888</td>\n",
       "      <td>850</td>\n",
       "      <td>Spain</td>\n",
       "      <td>Female</td>\n",
       "      <td>43</td>\n",
       "      <td>2.0</td>\n",
       "      <td>125510.82</td>\n",
       "      <td>1</td>\n",
       "      <td>1</td>\n",
       "      <td>1</td>\n",
       "      <td>79084.10</td>\n",
       "      <td>0</td>\n",
       "    </tr>\n",
       "    <tr>\n",
       "      <th>...</th>\n",
       "      <td>...</td>\n",
       "      <td>...</td>\n",
       "      <td>...</td>\n",
       "      <td>...</td>\n",
       "      <td>...</td>\n",
       "      <td>...</td>\n",
       "      <td>...</td>\n",
       "      <td>...</td>\n",
       "      <td>...</td>\n",
       "      <td>...</td>\n",
       "      <td>...</td>\n",
       "      <td>...</td>\n",
       "    </tr>\n",
       "    <tr>\n",
       "      <th>9995</th>\n",
       "      <td>15606229</td>\n",
       "      <td>771</td>\n",
       "      <td>France</td>\n",
       "      <td>Male</td>\n",
       "      <td>39</td>\n",
       "      <td>5.0</td>\n",
       "      <td>0.00</td>\n",
       "      <td>2</td>\n",
       "      <td>1</td>\n",
       "      <td>0</td>\n",
       "      <td>96270.64</td>\n",
       "      <td>0</td>\n",
       "    </tr>\n",
       "    <tr>\n",
       "      <th>9996</th>\n",
       "      <td>15569892</td>\n",
       "      <td>516</td>\n",
       "      <td>France</td>\n",
       "      <td>Male</td>\n",
       "      <td>35</td>\n",
       "      <td>10.0</td>\n",
       "      <td>57369.61</td>\n",
       "      <td>1</td>\n",
       "      <td>1</td>\n",
       "      <td>1</td>\n",
       "      <td>101699.77</td>\n",
       "      <td>0</td>\n",
       "    </tr>\n",
       "    <tr>\n",
       "      <th>9997</th>\n",
       "      <td>15584532</td>\n",
       "      <td>709</td>\n",
       "      <td>France</td>\n",
       "      <td>Female</td>\n",
       "      <td>36</td>\n",
       "      <td>7.0</td>\n",
       "      <td>0.00</td>\n",
       "      <td>1</td>\n",
       "      <td>0</td>\n",
       "      <td>1</td>\n",
       "      <td>42085.58</td>\n",
       "      <td>1</td>\n",
       "    </tr>\n",
       "    <tr>\n",
       "      <th>9998</th>\n",
       "      <td>15682355</td>\n",
       "      <td>772</td>\n",
       "      <td>Germany</td>\n",
       "      <td>Male</td>\n",
       "      <td>42</td>\n",
       "      <td>3.0</td>\n",
       "      <td>75075.31</td>\n",
       "      <td>2</td>\n",
       "      <td>1</td>\n",
       "      <td>0</td>\n",
       "      <td>92888.52</td>\n",
       "      <td>1</td>\n",
       "    </tr>\n",
       "    <tr>\n",
       "      <th>9999</th>\n",
       "      <td>15628319</td>\n",
       "      <td>792</td>\n",
       "      <td>France</td>\n",
       "      <td>Female</td>\n",
       "      <td>28</td>\n",
       "      <td>NaN</td>\n",
       "      <td>130142.79</td>\n",
       "      <td>1</td>\n",
       "      <td>1</td>\n",
       "      <td>0</td>\n",
       "      <td>38190.78</td>\n",
       "      <td>0</td>\n",
       "    </tr>\n",
       "  </tbody>\n",
       "</table>\n",
       "<p>10000 rows × 12 columns</p>\n",
       "</div>"
      ],
      "text/plain": [
       "      CustomerId  CreditScore Geography  Gender  Age  Tenure    Balance  \\\n",
       "0       15634602          619    France  Female   42     2.0       0.00   \n",
       "1       15647311          608     Spain  Female   41     1.0   83807.86   \n",
       "2       15619304          502    France  Female   42     8.0  159660.80   \n",
       "3       15701354          699    France  Female   39     1.0       0.00   \n",
       "4       15737888          850     Spain  Female   43     2.0  125510.82   \n",
       "...          ...          ...       ...     ...  ...     ...        ...   \n",
       "9995    15606229          771    France    Male   39     5.0       0.00   \n",
       "9996    15569892          516    France    Male   35    10.0   57369.61   \n",
       "9997    15584532          709    France  Female   36     7.0       0.00   \n",
       "9998    15682355          772   Germany    Male   42     3.0   75075.31   \n",
       "9999    15628319          792    France  Female   28     NaN  130142.79   \n",
       "\n",
       "      NumOfProducts  HasCrCard  IsActiveMember  EstimatedSalary  Exited  \n",
       "0                 1          1               1        101348.88       1  \n",
       "1                 1          0               1        112542.58       0  \n",
       "2                 3          1               0        113931.57       1  \n",
       "3                 2          0               0         93826.63       0  \n",
       "4                 1          1               1         79084.10       0  \n",
       "...             ...        ...             ...              ...     ...  \n",
       "9995              2          1               0         96270.64       0  \n",
       "9996              1          1               1        101699.77       0  \n",
       "9997              1          0               1         42085.58       1  \n",
       "9998              2          1               0         92888.52       1  \n",
       "9999              1          1               0         38190.78       0  \n",
       "\n",
       "[10000 rows x 12 columns]"
      ]
     },
     "execution_count": 3,
     "metadata": {},
     "output_type": "execute_result"
    }
   ],
   "source": [
    "data = data.drop(['Surname', 'RowNumber'], axis=1)\n",
    "data"
   ]
  },
  {
   "cell_type": "markdown",
   "metadata": {},
   "source": [
    "Видны пропуски в столбце \"Tenure\""
   ]
  },
  {
   "cell_type": "code",
   "execution_count": 4,
   "metadata": {},
   "outputs": [
    {
     "data": {
      "text/plain": [
       "array([ 2.,  1.,  8.,  7.,  4.,  6.,  3., 10.,  5.,  9.,  0., nan])"
      ]
     },
     "execution_count": 4,
     "metadata": {},
     "output_type": "execute_result"
    }
   ],
   "source": [
    "data['Tenure'].unique()"
   ]
  },
  {
   "cell_type": "markdown",
   "metadata": {},
   "source": [
    "Можно было бы предположить что пропуски обозначают 0, но в данном столбце уже есть нули, что значит, что наше предположение лучше будет отбросить. Так как пропусков относительно не так много - удалим их из таблицы. "
   ]
  },
  {
   "cell_type": "code",
   "execution_count": 5,
   "metadata": {},
   "outputs": [
    {
     "name": "stdout",
     "output_type": "stream",
     "text": [
      "<class 'pandas.core.frame.DataFrame'>\n",
      "Int64Index: 9091 entries, 0 to 9998\n",
      "Data columns (total 12 columns):\n",
      " #   Column           Non-Null Count  Dtype  \n",
      "---  ------           --------------  -----  \n",
      " 0   CustomerId       9091 non-null   int64  \n",
      " 1   CreditScore      9091 non-null   int64  \n",
      " 2   Geography        9091 non-null   object \n",
      " 3   Gender           9091 non-null   object \n",
      " 4   Age              9091 non-null   int64  \n",
      " 5   Tenure           9091 non-null   float64\n",
      " 6   Balance          9091 non-null   float64\n",
      " 7   NumOfProducts    9091 non-null   int64  \n",
      " 8   HasCrCard        9091 non-null   int64  \n",
      " 9   IsActiveMember   9091 non-null   int64  \n",
      " 10  EstimatedSalary  9091 non-null   float64\n",
      " 11  Exited           9091 non-null   int64  \n",
      "dtypes: float64(3), int64(7), object(2)\n",
      "memory usage: 923.3+ KB\n"
     ]
    }
   ],
   "source": [
    "data = data.dropna()\n",
    "data.info()"
   ]
  },
  {
   "cell_type": "markdown",
   "metadata": {},
   "source": [
    "Можем заменить индексы значениями из столбца с уникальным айди клиента. (Дублей среди этих значений нет, так как количество уникальный значений равно изначальному количеству строк таблицы)"
   ]
  },
  {
   "cell_type": "code",
   "execution_count": 6,
   "metadata": {},
   "outputs": [
    {
     "data": {
      "text/plain": [
       "(9091,)"
      ]
     },
     "execution_count": 6,
     "metadata": {},
     "output_type": "execute_result"
    }
   ],
   "source": [
    "data['CustomerId'].unique().shape"
   ]
  },
  {
   "cell_type": "code",
   "execution_count": 7,
   "metadata": {},
   "outputs": [],
   "source": [
    "data = data.set_index('CustomerId')"
   ]
  },
  {
   "cell_type": "markdown",
   "metadata": {},
   "source": [
    "### Прямое кодирование\n",
    "Теперь можем перейти к кодированию категориальных данных методом OHE. Столбцы с категориальными данными - это 'Geography', 'Gender'"
   ]
  },
  {
   "cell_type": "code",
   "execution_count": 8,
   "metadata": {},
   "outputs": [
    {
     "data": {
      "text/html": [
       "<div>\n",
       "<style scoped>\n",
       "    .dataframe tbody tr th:only-of-type {\n",
       "        vertical-align: middle;\n",
       "    }\n",
       "\n",
       "    .dataframe tbody tr th {\n",
       "        vertical-align: top;\n",
       "    }\n",
       "\n",
       "    .dataframe thead th {\n",
       "        text-align: right;\n",
       "    }\n",
       "</style>\n",
       "<table border=\"1\" class=\"dataframe\">\n",
       "  <thead>\n",
       "    <tr style=\"text-align: right;\">\n",
       "      <th></th>\n",
       "      <th>CreditScore</th>\n",
       "      <th>Age</th>\n",
       "      <th>Tenure</th>\n",
       "      <th>Balance</th>\n",
       "      <th>NumOfProducts</th>\n",
       "      <th>HasCrCard</th>\n",
       "      <th>IsActiveMember</th>\n",
       "      <th>EstimatedSalary</th>\n",
       "      <th>Exited</th>\n",
       "      <th>Geography_Germany</th>\n",
       "      <th>Geography_Spain</th>\n",
       "      <th>Gender_Male</th>\n",
       "    </tr>\n",
       "    <tr>\n",
       "      <th>CustomerId</th>\n",
       "      <th></th>\n",
       "      <th></th>\n",
       "      <th></th>\n",
       "      <th></th>\n",
       "      <th></th>\n",
       "      <th></th>\n",
       "      <th></th>\n",
       "      <th></th>\n",
       "      <th></th>\n",
       "      <th></th>\n",
       "      <th></th>\n",
       "      <th></th>\n",
       "    </tr>\n",
       "  </thead>\n",
       "  <tbody>\n",
       "    <tr>\n",
       "      <th>15634602</th>\n",
       "      <td>619</td>\n",
       "      <td>42</td>\n",
       "      <td>2.0</td>\n",
       "      <td>0.00</td>\n",
       "      <td>1</td>\n",
       "      <td>1</td>\n",
       "      <td>1</td>\n",
       "      <td>101348.88</td>\n",
       "      <td>1</td>\n",
       "      <td>0</td>\n",
       "      <td>0</td>\n",
       "      <td>0</td>\n",
       "    </tr>\n",
       "    <tr>\n",
       "      <th>15647311</th>\n",
       "      <td>608</td>\n",
       "      <td>41</td>\n",
       "      <td>1.0</td>\n",
       "      <td>83807.86</td>\n",
       "      <td>1</td>\n",
       "      <td>0</td>\n",
       "      <td>1</td>\n",
       "      <td>112542.58</td>\n",
       "      <td>0</td>\n",
       "      <td>0</td>\n",
       "      <td>1</td>\n",
       "      <td>0</td>\n",
       "    </tr>\n",
       "    <tr>\n",
       "      <th>15619304</th>\n",
       "      <td>502</td>\n",
       "      <td>42</td>\n",
       "      <td>8.0</td>\n",
       "      <td>159660.80</td>\n",
       "      <td>3</td>\n",
       "      <td>1</td>\n",
       "      <td>0</td>\n",
       "      <td>113931.57</td>\n",
       "      <td>1</td>\n",
       "      <td>0</td>\n",
       "      <td>0</td>\n",
       "      <td>0</td>\n",
       "    </tr>\n",
       "    <tr>\n",
       "      <th>15701354</th>\n",
       "      <td>699</td>\n",
       "      <td>39</td>\n",
       "      <td>1.0</td>\n",
       "      <td>0.00</td>\n",
       "      <td>2</td>\n",
       "      <td>0</td>\n",
       "      <td>0</td>\n",
       "      <td>93826.63</td>\n",
       "      <td>0</td>\n",
       "      <td>0</td>\n",
       "      <td>0</td>\n",
       "      <td>0</td>\n",
       "    </tr>\n",
       "    <tr>\n",
       "      <th>15737888</th>\n",
       "      <td>850</td>\n",
       "      <td>43</td>\n",
       "      <td>2.0</td>\n",
       "      <td>125510.82</td>\n",
       "      <td>1</td>\n",
       "      <td>1</td>\n",
       "      <td>1</td>\n",
       "      <td>79084.10</td>\n",
       "      <td>0</td>\n",
       "      <td>0</td>\n",
       "      <td>1</td>\n",
       "      <td>0</td>\n",
       "    </tr>\n",
       "    <tr>\n",
       "      <th>...</th>\n",
       "      <td>...</td>\n",
       "      <td>...</td>\n",
       "      <td>...</td>\n",
       "      <td>...</td>\n",
       "      <td>...</td>\n",
       "      <td>...</td>\n",
       "      <td>...</td>\n",
       "      <td>...</td>\n",
       "      <td>...</td>\n",
       "      <td>...</td>\n",
       "      <td>...</td>\n",
       "      <td>...</td>\n",
       "    </tr>\n",
       "    <tr>\n",
       "      <th>15719294</th>\n",
       "      <td>800</td>\n",
       "      <td>29</td>\n",
       "      <td>2.0</td>\n",
       "      <td>0.00</td>\n",
       "      <td>2</td>\n",
       "      <td>0</td>\n",
       "      <td>0</td>\n",
       "      <td>167773.55</td>\n",
       "      <td>0</td>\n",
       "      <td>0</td>\n",
       "      <td>0</td>\n",
       "      <td>0</td>\n",
       "    </tr>\n",
       "    <tr>\n",
       "      <th>15606229</th>\n",
       "      <td>771</td>\n",
       "      <td>39</td>\n",
       "      <td>5.0</td>\n",
       "      <td>0.00</td>\n",
       "      <td>2</td>\n",
       "      <td>1</td>\n",
       "      <td>0</td>\n",
       "      <td>96270.64</td>\n",
       "      <td>0</td>\n",
       "      <td>0</td>\n",
       "      <td>0</td>\n",
       "      <td>1</td>\n",
       "    </tr>\n",
       "    <tr>\n",
       "      <th>15569892</th>\n",
       "      <td>516</td>\n",
       "      <td>35</td>\n",
       "      <td>10.0</td>\n",
       "      <td>57369.61</td>\n",
       "      <td>1</td>\n",
       "      <td>1</td>\n",
       "      <td>1</td>\n",
       "      <td>101699.77</td>\n",
       "      <td>0</td>\n",
       "      <td>0</td>\n",
       "      <td>0</td>\n",
       "      <td>1</td>\n",
       "    </tr>\n",
       "    <tr>\n",
       "      <th>15584532</th>\n",
       "      <td>709</td>\n",
       "      <td>36</td>\n",
       "      <td>7.0</td>\n",
       "      <td>0.00</td>\n",
       "      <td>1</td>\n",
       "      <td>0</td>\n",
       "      <td>1</td>\n",
       "      <td>42085.58</td>\n",
       "      <td>1</td>\n",
       "      <td>0</td>\n",
       "      <td>0</td>\n",
       "      <td>0</td>\n",
       "    </tr>\n",
       "    <tr>\n",
       "      <th>15682355</th>\n",
       "      <td>772</td>\n",
       "      <td>42</td>\n",
       "      <td>3.0</td>\n",
       "      <td>75075.31</td>\n",
       "      <td>2</td>\n",
       "      <td>1</td>\n",
       "      <td>0</td>\n",
       "      <td>92888.52</td>\n",
       "      <td>1</td>\n",
       "      <td>1</td>\n",
       "      <td>0</td>\n",
       "      <td>1</td>\n",
       "    </tr>\n",
       "  </tbody>\n",
       "</table>\n",
       "<p>9091 rows × 12 columns</p>\n",
       "</div>"
      ],
      "text/plain": [
       "            CreditScore  Age  Tenure    Balance  NumOfProducts  HasCrCard  \\\n",
       "CustomerId                                                                  \n",
       "15634602            619   42     2.0       0.00              1          1   \n",
       "15647311            608   41     1.0   83807.86              1          0   \n",
       "15619304            502   42     8.0  159660.80              3          1   \n",
       "15701354            699   39     1.0       0.00              2          0   \n",
       "15737888            850   43     2.0  125510.82              1          1   \n",
       "...                 ...  ...     ...        ...            ...        ...   \n",
       "15719294            800   29     2.0       0.00              2          0   \n",
       "15606229            771   39     5.0       0.00              2          1   \n",
       "15569892            516   35    10.0   57369.61              1          1   \n",
       "15584532            709   36     7.0       0.00              1          0   \n",
       "15682355            772   42     3.0   75075.31              2          1   \n",
       "\n",
       "            IsActiveMember  EstimatedSalary  Exited  Geography_Germany  \\\n",
       "CustomerId                                                               \n",
       "15634602                 1        101348.88       1                  0   \n",
       "15647311                 1        112542.58       0                  0   \n",
       "15619304                 0        113931.57       1                  0   \n",
       "15701354                 0         93826.63       0                  0   \n",
       "15737888                 1         79084.10       0                  0   \n",
       "...                    ...              ...     ...                ...   \n",
       "15719294                 0        167773.55       0                  0   \n",
       "15606229                 0         96270.64       0                  0   \n",
       "15569892                 1        101699.77       0                  0   \n",
       "15584532                 1         42085.58       1                  0   \n",
       "15682355                 0         92888.52       1                  1   \n",
       "\n",
       "            Geography_Spain  Gender_Male  \n",
       "CustomerId                                \n",
       "15634602                  0            0  \n",
       "15647311                  1            0  \n",
       "15619304                  0            0  \n",
       "15701354                  0            0  \n",
       "15737888                  1            0  \n",
       "...                     ...          ...  \n",
       "15719294                  0            0  \n",
       "15606229                  0            1  \n",
       "15569892                  0            1  \n",
       "15584532                  0            0  \n",
       "15682355                  0            1  \n",
       "\n",
       "[9091 rows x 12 columns]"
      ]
     },
     "execution_count": 8,
     "metadata": {},
     "output_type": "execute_result"
    }
   ],
   "source": [
    "data = pd.get_dummies(data, columns=['Geography', 'Gender'], drop_first=True)\n",
    "data"
   ]
  },
  {
   "cell_type": "markdown",
   "metadata": {},
   "source": [
    "### Создадим обучающую, тестовую и валидационные выборки"
   ]
  },
  {
   "cell_type": "code",
   "execution_count": 9,
   "metadata": {},
   "outputs": [
    {
     "name": "stdout",
     "output_type": "stream",
     "text": [
      "Размер тестовой выборки = (2273, 11)\n",
      "Размер валидационной выборки = (2273, 11)\n",
      "Размер обучающей выборки = (4545, 11)\n"
     ]
    }
   ],
   "source": [
    "target = data['Exited']\n",
    "features = data.drop('Exited', axis=1)\n",
    "\n",
    "def get_samples(target, features):\n",
    "    features_train, features_valid, target_train, target_valid = train_test_split(\n",
    "        features, target, test_size=0.5, random_state=12345, stratify=target\n",
    "    )\n",
    "    \n",
    "    return features_train, features_valid, target_train, target_valid\n",
    "    \n",
    "features_train, features_valid, target_train, target_valid = get_samples(target, features)\n",
    "features_test, features_valid, target_test, target_valid = get_samples(target_valid, features_valid)\n",
    "\n",
    "print(f'Размер тестовой выборки = {features_test.shape}')\n",
    "print(f'Размер валидационной выборки = {features_valid.shape}')\n",
    "print(f'Размер обучающей выборки = {features_train.shape}')"
   ]
  },
  {
   "cell_type": "markdown",
   "metadata": {},
   "source": [
    "### Стандартизация численных признаков"
   ]
  },
  {
   "cell_type": "code",
   "execution_count": 10,
   "metadata": {},
   "outputs": [],
   "source": [
    "def get_scaler(features_train, features_valid, features_test):\n",
    "\n",
    "    numeric = ['CreditScore', 'Age', 'Tenure', 'Balance', 'NumOfProducts', 'HasCrCard', 'EstimatedSalary']\n",
    "\n",
    "    scaler = StandardScaler()\n",
    "    scaler.fit(features_train[numeric])\n",
    "\n",
    "    features_train[numeric] = scaler.transform(features_train[numeric])\n",
    "    features_valid[numeric] = scaler.transform(features_valid[numeric])\n",
    "    features_test[numeric] = scaler.transform(features_test[numeric])\n",
    "    \n",
    "    return features_train, features_valid, features_test\n",
    "    \n",
    "features_train, features_valid, features_test = get_scaler(features_train, features_valid, features_test)"
   ]
  },
  {
   "cell_type": "markdown",
   "metadata": {},
   "source": [
    "С предобработкой данных закончили, можем перейти к обучению модели без учета дисбаланса классов"
   ]
  },
  {
   "cell_type": "markdown",
   "metadata": {},
   "source": [
    "## Исследование задачи"
   ]
  },
  {
   "cell_type": "markdown",
   "metadata": {},
   "source": [
    "### Модель случайного леса"
   ]
  },
  {
   "cell_type": "markdown",
   "metadata": {},
   "source": [
    "Попробуем обучить модель случайного леса без учёта дисбаланса классов."
   ]
  },
  {
   "cell_type": "code",
   "execution_count": 11,
   "metadata": {},
   "outputs": [],
   "source": [
    "def get_actual_auc(model, target_valid, features_valid):\n",
    "    probabilities = model.predict_proba(features_valid)\n",
    "\n",
    "    fpr, tpr, thresholds = roc_curve(target_valid, probabilities[:,1])\n",
    "    auc_roc = roc_auc_score(target_valid, probabilities[:,1])\n",
    "    \n",
    "    return auc_roc, fpr, tpr, thresholds\n",
    "\n",
    "\n",
    "def show_roc(fpr, tpr, auc_roc):\n",
    "    plt.plot(fpr, tpr, color='darkorange',\n",
    "             label='ROC кривая (area = %0.2f)' % auc_roc)\n",
    "    plt.plot([0, 1], [0, 1], color='navy', linestyle='--')\n",
    "    plt.xlim([0.0, 1.0])\n",
    "    plt.ylim([0.0, 1.05])\n",
    "    plt.xlabel('False Positive Rate')\n",
    "    plt.ylabel('True Positive Rate')\n",
    "    plt.title('ROC-кривая')\n",
    "    plt.legend(loc=\"lower right\")\n",
    "    plt.grid()\n",
    "    plt.show()"
   ]
  },
  {
   "cell_type": "code",
   "execution_count": 12,
   "metadata": {},
   "outputs": [
    {
     "data": {
      "image/png": "[encoded data removed]",
      "text/plain": [
       "<Figure size 1080x576 with 2 Axes>"
      ]
     },
     "metadata": {
      "needs_background": "light"
     },
     "output_type": "display_data"
    },
    {
     "data": {
      "image/png": "[encoded data removed]",
      "text/plain": [
       "<Figure size 1080x576 with 2 Axes>"
      ]
     },
     "metadata": {
      "needs_background": "light"
     },
     "output_type": "display_data"
    },
    {
     "name": "stdout",
     "output_type": "stream",
     "text": [
      "Лучшая точность на валидационной выборке: 0.5992\n",
      "Параметры лучшей модели: max_depth = 19, n_estimators = 125\n"
     ]
    }
   ],
   "source": [
    "def get_best_random_forest(features_train, target_train, features_valid, target_valid, class_weight='balanced'):\n",
    "    f1_dict = {a : [] for a in range(115, 136, 5)}\n",
    "    auc_dict = {a : [] for a in range(115, 136, 5)}\n",
    "    best_f1 = 0\n",
    "\n",
    "    for n_est in f1_dict:\n",
    "        for depth in range(17, 20):\n",
    "            model = RandomForestClassifier(random_state=12345, max_depth=depth, n_estimators=n_est, class_weight=class_weight)\n",
    "\n",
    "            model.fit(features_train, target_train)\n",
    "\n",
    "            predictions = model.predict(features_valid)\n",
    "\n",
    "            actual_f1 = f1_score(target_valid, predictions)\n",
    "            \n",
    "            auc_roc, fpr, tpr, thresholds = get_actual_auc(model, target_valid, features_valid)\n",
    "            auc_dict[n_est].append(auc_roc)\n",
    "            \n",
    "            if actual_f1 > best_f1:\n",
    "                best_f1 = actual_f1\n",
    "                best_model = model\n",
    "\n",
    "            f1_dict[n_est].append(actual_f1)\n",
    "\n",
    "    plt.figure(figsize=(15, 8))\n",
    "    plt.title('Тепловая карта метрики F1')    \n",
    "    sns.heatmap(\n",
    "        pd.DataFrame(f1_dict),\n",
    "        annot=True,\n",
    "        fmt='.3g',\n",
    "        linewidths=1, \n",
    "        linecolor='black'\n",
    "    )\n",
    "    plt.show()\n",
    "    \n",
    "    plt.figure(figsize=(15, 8))\n",
    "    plt.title('Тепловая карта метрики AUC')\n",
    "    sns.heatmap(\n",
    "        pd.DataFrame(auc_dict),\n",
    "        annot=True,\n",
    "        fmt='.2g',\n",
    "        linewidths=1, \n",
    "        linecolor='black'\n",
    "    )\n",
    "    plt.show()\n",
    "    \n",
    "    print(f'Лучшая точность на валидационной выборке: {best_f1:.4f}')\n",
    "    params = best_model.get_params()\n",
    "    print(f\"Параметры лучшей модели: max_depth = {params['max_depth']}, n_estimators = {params['n_estimators']}\")\n",
    "    \n",
    "    return best_model\n",
    "    \n",
    "best_model = get_best_random_forest(features_train, target_train, features_valid, target_valid)"
   ]
  },
  {
   "cell_type": "markdown",
   "metadata": {},
   "source": [
    "На хитмэпе видно, что лучшая точность, которую мы смогли получить - это 0.6. Построим ROC кривую"
   ]
  },
  {
   "cell_type": "code",
   "execution_count": 13,
   "metadata": {},
   "outputs": [
    {
     "data": {
      "image/png": "[encoded data removed]",
      "text/plain": [
       "<Figure size 432x288 with 1 Axes>"
      ]
     },
     "metadata": {
      "needs_background": "light"
     },
     "output_type": "display_data"
    }
   ],
   "source": [
    "auc_roc, fpr, tpr, thresholds = get_actual_auc(best_model, target_valid, features_valid)\n",
    "show_roc(fpr, tpr, auc_roc)"
   ]
  },
  {
   "cell_type": "markdown",
   "metadata": {},
   "source": [
    "Как видно по графику и по значению AUC - наша модель уже проходит тест на вменяемость. "
   ]
  },
  {
   "cell_type": "markdown",
   "metadata": {},
   "source": [
    "### Логистическая регрессия"
   ]
  },
  {
   "cell_type": "markdown",
   "metadata": {},
   "source": [
    "Теперь обучим модель логистической регрессии"
   ]
  },
  {
   "cell_type": "code",
   "execution_count": 14,
   "metadata": {},
   "outputs": [
    {
     "name": "stdout",
     "output_type": "stream",
     "text": [
      "Лучшая точность на валидационной выборке: 0.3391\n"
     ]
    },
    {
     "data": {
      "image/png": "[encoded data removed]",
      "text/plain": [
       "<Figure size 432x288 with 1 Axes>"
      ]
     },
     "metadata": {
      "needs_background": "light"
     },
     "output_type": "display_data"
    }
   ],
   "source": [
    "def get_logistic_regression(features_train, target_train, features_valid, target_valid):\n",
    "    \n",
    "    best_model = LogisticRegression(random_state=12345, solver='liblinear', max_iter=200)\n",
    "    \n",
    "    best_model.fit(features_train, target_train)\n",
    "    predictions = best_model.predict(features_valid)\n",
    "    \n",
    "    print(f'Лучшая точность на валидационной выборке: {f1_score(target_valid, predictions):.4f}')\n",
    "    return best_model\n",
    "    \n",
    "best_logist_model = get_logistic_regression(features_train, target_train, features_valid, target_valid)\n",
    "\n",
    "auc_roc, fpr, tpr, thresholds = get_actual_auc(best_logist_model, target_valid, features_valid)\n",
    "show_roc(fpr, tpr, auc_roc)"
   ]
  },
  {
   "cell_type": "markdown",
   "metadata": {},
   "source": [
    "Модель логистической регрессии справилась хуже. Это видно по метрикам AUC и F1 "
   ]
  },
  {
   "cell_type": "markdown",
   "metadata": {},
   "source": [
    "Посмотрим насколько несбалансированы данные в нашей обучающей выборке."
   ]
  },
  {
   "cell_type": "code",
   "execution_count": 15,
   "metadata": {
    "scrolled": true
   },
   "outputs": [
    {
     "name": "stdout",
     "output_type": "stream",
     "text": [
      "Количество элементов положительного класса = 1854\n",
      "Количество элементов отрицательного класса = 7237\n",
      "Элементов отрицательного класса больше элементов положительного в 3.90 раз\n"
     ]
    }
   ],
   "source": [
    "def compare_classes(features, target): \n",
    "    print(\"Количество элементов положительного класса =\", features[target == 1].shape[0])\n",
    "    print(\"Количество элементов отрицательного класса =\", features[target == 0].shape[0])\n",
    "    print(f\"Элементов отрицательного класса больше элементов положительного в {features[target == 0].shape[0]/features[target == 1].shape[0]:.2f} раз\")\n",
    "    \n",
    "compare_classes(features, target)"
   ]
  },
  {
   "cell_type": "markdown",
   "metadata": {},
   "source": [
    "### Вывод"
   ]
  },
  {
   "cell_type": "markdown",
   "metadata": {},
   "source": [
    "Выяснили, что экземлпяров одного класса больше практически в 4 раза, чем другого класса. Перейдём к обучению с учётом дисбаланса классов. Также заметно, что модель случайного леса проявила себя лучше на обучении без учета дисбаланса"
   ]
  },
  {
   "cell_type": "markdown",
   "metadata": {},
   "source": [
    "## Борьба с дисбалансом"
   ]
  },
  {
   "cell_type": "markdown",
   "metadata": {},
   "source": [
    "### Увеличиваем меньшую выборку"
   ]
  },
  {
   "cell_type": "markdown",
   "metadata": {},
   "source": [
    "Увеличим выборку меньшего класса в 4 раза. "
   ]
  },
  {
   "cell_type": "code",
   "execution_count": 16,
   "metadata": {
    "scrolled": true
   },
   "outputs": [
    {
     "name": "stdout",
     "output_type": "stream",
     "text": [
      "Количество элементов положительного класса = 3708\n",
      "Количество элементов отрицательного класса = 3618\n",
      "Элементов отрицательного класса больше элементов положительного в 0.98 раз\n"
     ]
    }
   ],
   "source": [
    "def upsample(features, target, repeat):\n",
    "    features_zeros = features[target == 0]\n",
    "    features_ones = features[target == 1]\n",
    "    target_zeros = target[target == 0]\n",
    "    target_ones = target[target == 1]\n",
    "\n",
    "    features_upsampled = pd.concat([features_zeros] + [features_ones] * repeat)\n",
    "    target_upsampled = pd.concat([target_zeros] + [target_ones] * repeat)\n",
    "    \n",
    "    features_upsampled, target_upsampled = shuffle(\n",
    "        features_upsampled, target_upsampled, random_state=12345)\n",
    "    \n",
    "    return features_upsampled, target_upsampled\n",
    "\n",
    "features_train, features_valid, target_train, target_valid = get_samples(target, features)\n",
    "features_test, features_valid, target_test, target_valid = get_samples(target_valid, features_valid)\n",
    "\n",
    "features_train_upsampled, target_train_upsampled = upsample(features_train, target_train, 4)\n",
    "\n",
    "compare_classes(features_train_upsampled, target_train_upsampled)"
   ]
  },
  {
   "cell_type": "markdown",
   "metadata": {},
   "source": [
    "Попробуем обучить нашу модель на текущих выборках, чтобы посмотреть, удалось ли нам улучшить результат. "
   ]
  },
  {
   "cell_type": "code",
   "execution_count": 17,
   "metadata": {},
   "outputs": [
    {
     "data": {
      "image/png": "[encoded data removed]",
      "text/plain": [
       "<Figure size 1080x576 with 2 Axes>"
      ]
     },
     "metadata": {
      "needs_background": "light"
     },
     "output_type": "display_data"
    },
    {
     "data": {
      "image/png": "[encoded data removed]",
      "text/plain": [
       "<Figure size 1080x576 with 2 Axes>"
      ]
     },
     "metadata": {
      "needs_background": "light"
     },
     "output_type": "display_data"
    },
    {
     "name": "stdout",
     "output_type": "stream",
     "text": [
      "Лучшая точность на валидационной выборке: 0.6088\n",
      "Параметры лучшей модели: max_depth = 18, n_estimators = 115\n"
     ]
    }
   ],
   "source": [
    "best_forest_model = get_best_random_forest(features_train_upsampled, target_train_upsampled, features_valid, target_valid)"
   ]
  },
  {
   "cell_type": "code",
   "execution_count": 18,
   "metadata": {},
   "outputs": [
    {
     "data": {
      "image/png": "[encoded data removed]",
      "text/plain": [
       "<Figure size 432x288 with 1 Axes>"
      ]
     },
     "metadata": {
      "needs_background": "light"
     },
     "output_type": "display_data"
    }
   ],
   "source": [
    "auc_roc, fpr, tpr, thresholds = get_actual_auc(best_forest_model, target_valid, features_valid)\n",
    "show_roc(fpr, tpr, auc_roc)"
   ]
  },
  {
   "cell_type": "markdown",
   "metadata": {},
   "source": [
    "Получилось увеличить точность F1 Метрики. Как и ROC кривая теперь выглядит лучше. Тем не менее попробуем уменьшить больший класс в 2 раза и увеличить в 2 раза меньший класс. Сохраним модель отдельно."
   ]
  },
  {
   "cell_type": "markdown",
   "metadata": {},
   "source": [
    "### Увеличиваем меньшую выборку и уменьшаем большую "
   ]
  },
  {
   "cell_type": "code",
   "execution_count": 19,
   "metadata": {},
   "outputs": [],
   "source": [
    "def downsample(features, target, fraction):\n",
    "    features_zeros = features[target == 0]\n",
    "    features_ones = features[target == 1]\n",
    "    target_zeros = target[target == 0]\n",
    "    target_ones = target[target == 1]\n",
    "\n",
    "    features_downsampled = pd.concat(\n",
    "        [features_zeros.sample(frac=fraction, random_state=12345)] + [features_ones])\n",
    "    target_downsampled = pd.concat(\n",
    "        [target_zeros.sample(frac=fraction, random_state=12345)] + [target_ones])\n",
    "    \n",
    "    features_downsampled, target_downsampled = shuffle(\n",
    "        features_downsampled, target_downsampled, random_state=12345)\n",
    "    \n",
    "    return features_downsampled, target_downsampled"
   ]
  },
  {
   "cell_type": "code",
   "execution_count": 20,
   "metadata": {},
   "outputs": [
    {
     "name": "stdout",
     "output_type": "stream",
     "text": [
      "Количество элементов положительного класса = 1854\n",
      "Количество элементов отрицательного класса = 1809\n",
      "Элементов отрицательного класса больше элементов положительного в 0.98 раз\n"
     ]
    }
   ],
   "source": [
    "features_train, features_valid, target_train, target_valid = get_samples(target, features)\n",
    "features_test, features_valid, target_test, target_valid = get_samples(target_valid, features_valid)\n",
    "\n",
    "features_train_downsampled, target_train_downsampled = downsample(features_train, target_train, 0.5)\n",
    "features_train_combined, target_train_combined = upsample(features_train_downsampled, target_train_downsampled, 2)\n",
    "\n",
    "compare_classes(features_train_combined, target_train_combined)"
   ]
  },
  {
   "cell_type": "code",
   "execution_count": 21,
   "metadata": {
    "scrolled": true
   },
   "outputs": [
    {
     "data": {
      "image/png": "[encoded data removed]",
      "text/plain": [
       "<Figure size 1080x576 with 2 Axes>"
      ]
     },
     "metadata": {
      "needs_background": "light"
     },
     "output_type": "display_data"
    },
    {
     "data": {
      "image/png": "[encoded data removed]",
      "text/plain": [
       "<Figure size 1080x576 with 2 Axes>"
      ]
     },
     "metadata": {
      "needs_background": "light"
     },
     "output_type": "display_data"
    },
    {
     "name": "stdout",
     "output_type": "stream",
     "text": [
      "Лучшая точность на валидационной выборке: 0.6143\n",
      "Параметры лучшей модели: max_depth = 18, n_estimators = 125\n"
     ]
    }
   ],
   "source": [
    "best_forest_model = get_best_random_forest(features_train_combined, target_train_combined, features_valid, target_valid)"
   ]
  },
  {
   "cell_type": "code",
   "execution_count": 22,
   "metadata": {},
   "outputs": [
    {
     "data": {
      "image/png": "[encoded data removed]",
      "text/plain": [
       "<Figure size 432x288 with 1 Axes>"
      ]
     },
     "metadata": {
      "needs_background": "light"
     },
     "output_type": "display_data"
    }
   ],
   "source": [
    "auc_roc, fpr, tpr, thresholds = get_actual_auc(best_forest_model, target_valid, features_valid)\n",
    "show_roc(fpr, tpr, auc_roc)"
   ]
  },
  {
   "cell_type": "markdown",
   "metadata": {},
   "source": [
    "Метрики стали хуже, поэтому вернемся к предыдущему варианту - увеличим меньший класс в 4 раза"
   ]
  },
  {
   "cell_type": "markdown",
   "metadata": {},
   "source": [
    "### Уменьшаем больший класс в 4 раза"
   ]
  },
  {
   "cell_type": "code",
   "execution_count": 23,
   "metadata": {},
   "outputs": [
    {
     "name": "stdout",
     "output_type": "stream",
     "text": [
      "Количество элементов положительного класса = 927\n",
      "Количество элементов отрицательного класса = 904\n",
      "Элементов отрицательного класса больше элементов положительного в 0.98 раз\n"
     ]
    }
   ],
   "source": [
    "features_train_downsampled, target_train_downsampled = downsample(features_train, target_train, 0.25)\n",
    "\n",
    "compare_classes(features_train_downsampled, target_train_downsampled)"
   ]
  },
  {
   "cell_type": "code",
   "execution_count": 24,
   "metadata": {
    "scrolled": true
   },
   "outputs": [
    {
     "data": {
      "image/png": "[encoded data removed]",
      "text/plain": [
       "<Figure size 1080x576 with 2 Axes>"
      ]
     },
     "metadata": {
      "needs_background": "light"
     },
     "output_type": "display_data"
    },
    {
     "data": {
      "image/png": "[encoded data removed]",
      "text/plain": [
       "<Figure size 1080x576 with 2 Axes>"
      ]
     },
     "metadata": {
      "needs_background": "light"
     },
     "output_type": "display_data"
    },
    {
     "name": "stdout",
     "output_type": "stream",
     "text": [
      "Лучшая точность на валидационной выборке: 0.5851\n",
      "Параметры лучшей модели: max_depth = 17, n_estimators = 115\n"
     ]
    }
   ],
   "source": [
    "best_forest_model = get_best_random_forest(features_train_downsampled, target_train_downsampled, features_valid, target_valid)"
   ]
  },
  {
   "cell_type": "code",
   "execution_count": 25,
   "metadata": {},
   "outputs": [
    {
     "data": {
      "image/png": "[encoded data removed]",
      "text/plain": [
       "<Figure size 432x288 with 1 Axes>"
      ]
     },
     "metadata": {
      "needs_background": "light"
     },
     "output_type": "display_data"
    }
   ],
   "source": [
    "auc_roc, fpr, tpr, thresholds = get_actual_auc(best_forest_model, target_valid, features_valid)\n",
    "show_roc(fpr, tpr, auc_roc)"
   ]
  },
  {
   "cell_type": "markdown",
   "metadata": {},
   "source": [
    "Лучше всего себя показала модель, которая была обучена на скомбиннаровоном методе борьбы с дисбалансом - когда мы уменьшили больший класс в 2 раза и увеличили меньший в 2."
   ]
  },
  {
   "cell_type": "code",
   "execution_count": 26,
   "metadata": {
    "scrolled": true
   },
   "outputs": [
    {
     "data": {
      "image/png": "[encoded data removed]",
      "text/plain": [
       "<Figure size 1080x576 with 2 Axes>"
      ]
     },
     "metadata": {
      "needs_background": "light"
     },
     "output_type": "display_data"
    },
    {
     "data": {
      "image/png": "[encoded data removed]",
      "text/plain": [
       "<Figure size 1080x576 with 2 Axes>"
      ]
     },
     "metadata": {
      "needs_background": "light"
     },
     "output_type": "display_data"
    },
    {
     "name": "stdout",
     "output_type": "stream",
     "text": [
      "Лучшая точность на валидационной выборке: 0.6143\n",
      "Параметры лучшей модели: max_depth = 18, n_estimators = 125\n"
     ]
    }
   ],
   "source": [
    "best_forest_model = get_best_random_forest(features_train_combined, target_train_combined, features_valid, target_valid)"
   ]
  },
  {
   "cell_type": "markdown",
   "metadata": {},
   "source": [
    "### Обучаем модель логистической регрессии"
   ]
  },
  {
   "cell_type": "markdown",
   "metadata": {},
   "source": [
    "Попробуем обучить модель логистической регрессии на сбалансированных выборках"
   ]
  },
  {
   "cell_type": "code",
   "execution_count": 27,
   "metadata": {},
   "outputs": [
    {
     "name": "stdout",
     "output_type": "stream",
     "text": [
      "Лучшая точность на валидационной выборке: 0.4416\n"
     ]
    },
    {
     "data": {
      "image/png": "[encoded data removed]",
      "text/plain": [
       "<Figure size 432x288 with 1 Axes>"
      ]
     },
     "metadata": {
      "needs_background": "light"
     },
     "output_type": "display_data"
    }
   ],
   "source": [
    "best_logist_model = get_logistic_regression(features_train_combined, target_train_combined, features_valid, target_valid)\n",
    "\n",
    "auc_roc, fpr, tpr, thresholds = get_actual_auc(best_logist_model, target_valid, features_valid)\n",
    "show_roc(fpr, tpr, auc_roc)"
   ]
  },
  {
   "cell_type": "markdown",
   "metadata": {},
   "source": [
    "Метрики у данной модели хуже, чем у случайного леса, поэтому вернемся к случайному лесу и попробуем подобрать порог для него"
   ]
  },
  {
   "cell_type": "markdown",
   "metadata": {},
   "source": [
    "### Подбираем оптимальный порог"
   ]
  },
  {
   "cell_type": "code",
   "execution_count": 28,
   "metadata": {},
   "outputs": [
    {
     "name": "stdout",
     "output_type": "stream",
     "text": [
      "С лучшим порогом (0.5030000000000003) значение метрики F1 = 0.6161515453639083\n"
     ]
    },
    {
     "data": {
      "image/png": "[encoded data removed]",
      "text/plain": [
       "<Figure size 432x288 with 1 Axes>"
      ]
     },
     "metadata": {
      "needs_background": "light"
     },
     "output_type": "display_data"
    }
   ],
   "source": [
    "probabilities_valid = best_forest_model.predict_proba(features_valid)\n",
    "probabilities_one_valid = probabilities_valid[:, 1]\n",
    "\n",
    "list_threshold = []\n",
    "best_threshold = 0\n",
    "actual_f1 = 0\n",
    "best_f1 = 0\n",
    "max_range = 0.9\n",
    "min_range = 0.2\n",
    "range_threshold = np.arange(min_range, max_range, 0.001)\n",
    "\n",
    "for threshold in range_threshold:\n",
    "    predictions = probabilities_one_valid > threshold\n",
    "    actual_f1 = f1_score(target_valid, predictions)\n",
    "    if actual_f1 > best_f1:\n",
    "        best_f1 = actual_f1\n",
    "        best_threshold = threshold\n",
    "    list_threshold.append(actual_f1)\n",
    "    \n",
    "print(f'С лучшим порогом ({best_threshold}) значение метрики F1 = {best_f1}')\n",
    "\n",
    "\n",
    "plt.plot(range_threshold.tolist(), list_threshold, color='darkorange')\n",
    "plt.plot([best_threshold, best_threshold], [0, 1.05], color='navy', linestyle='--')\n",
    "plt.grid()\n",
    "plt.xlim([min_range, max_range])\n",
    "plt.ylim([0.3, 1.05])\n",
    "plt.xlabel('Threshold')\n",
    "plt.ylabel('F1')\n",
    "plt.show()"
   ]
  },
  {
   "cell_type": "code",
   "execution_count": 29,
   "metadata": {},
   "outputs": [
    {
     "name": "stdout",
     "output_type": "stream",
     "text": [
      "F1 = 0.6162\n"
     ]
    },
    {
     "data": {
      "image/png": "[encoded data removed]",
      "text/plain": [
       "<Figure size 432x288 with 1 Axes>"
      ]
     },
     "metadata": {
      "needs_background": "light"
     },
     "output_type": "display_data"
    }
   ],
   "source": [
    "probabilities = best_forest_model.predict_proba(features_valid)\n",
    "probabilities_one_valid = probabilities_valid[:, 1]\n",
    "\n",
    "predictions = probabilities_one_valid > best_threshold\n",
    "\n",
    "print(f'F1 = {f1_score(target_valid, predictions):.4f}')\n",
    "\n",
    "auc_roc, fpr, tpr, thresholds = get_actual_auc(best_forest_model, target_valid, features_valid)\n",
    "show_roc(fpr, tpr, auc_roc)"
   ]
  },
  {
   "cell_type": "markdown",
   "metadata": {},
   "source": [
    "На данной модели получилось добиться удовлетворяющего нас результата. Перейдём к тестированию модели."
   ]
  },
  {
   "cell_type": "markdown",
   "metadata": {},
   "source": [
    "## Тестирование модели"
   ]
  },
  {
   "cell_type": "code",
   "execution_count": 30,
   "metadata": {},
   "outputs": [
    {
     "name": "stdout",
     "output_type": "stream",
     "text": [
      "F1 = 0.6195\n"
     ]
    },
    {
     "data": {
      "image/png": "[encoded data removed]",
      "text/plain": [
       "<Figure size 432x288 with 1 Axes>"
      ]
     },
     "metadata": {
      "needs_background": "light"
     },
     "output_type": "display_data"
    }
   ],
   "source": [
    "probabilities = best_forest_model.predict_proba(features_test)\n",
    "probabilities_one_valid = probabilities[:, 1]\n",
    "\n",
    "predictions = probabilities_one_valid > best_threshold\n",
    "\n",
    "print(f'F1 = {f1_score(target_test, predictions):.4f}')\n",
    "\n",
    "auc_roc, fpr, tpr, thresholds = get_actual_auc(best_forest_model, target_test, features_test)\n",
    "show_roc(fpr, tpr, auc_roc)"
   ]
  },
  {
   "cell_type": "markdown",
   "metadata": {},
   "source": [
    "## Общий вывод"
   ]
  },
  {
   "cell_type": "markdown",
   "metadata": {},
   "source": [
    "Удалось добиться следующих метрик: F1 = 0.62, AUC = 0.85\n",
    "\n",
    "Сделали это засчёт увеличения меньшего класса для достижения баланса классов и засчёт подбора оптимального порога. Лучше всего себя показала модель случайного леса. "
   ]
  }
 ],
 "metadata": {
  "ExecuteTimeLog": [
   {
    "duration": 838,
    "start_time": "2021-11-11T12:17:36.087Z"
   },
   {
    "duration": 70,
    "start_time": "2021-11-11T12:17:46.192Z"
   },
   {
    "duration": 294,
    "start_time": "2021-11-15T14:17:55.947Z"
   },
   {
    "duration": 520,
    "start_time": "2021-11-15T14:17:59.433Z"
   },
   {
    "duration": 55,
    "start_time": "2021-11-15T14:17:59.955Z"
   },
   {
    "duration": 301,
    "start_time": "2021-11-15T14:18:00.633Z"
   },
   {
    "duration": 18,
    "start_time": "2021-11-15T14:18:16.730Z"
   },
   {
    "duration": 275,
    "start_time": "2021-11-15T14:18:49.505Z"
   },
   {
    "duration": 45,
    "start_time": "2021-11-15T14:18:53.481Z"
   },
   {
    "duration": 18,
    "start_time": "2021-11-15T14:18:54.249Z"
   },
   {
    "duration": 257,
    "start_time": "2021-11-15T14:20:02.873Z"
   },
   {
    "duration": 4,
    "start_time": "2021-11-15T14:20:07.592Z"
   },
   {
    "duration": 253,
    "start_time": "2021-11-15T14:20:26.120Z"
   },
   {
    "duration": 259,
    "start_time": "2021-11-15T14:20:34.808Z"
   },
   {
    "duration": 17,
    "start_time": "2021-11-15T14:20:40.337Z"
   },
   {
    "duration": 270,
    "start_time": "2021-11-15T14:25:09.038Z"
   },
   {
    "duration": 9,
    "start_time": "2021-11-15T14:25:13.688Z"
   },
   {
    "duration": 9,
    "start_time": "2021-11-15T14:25:28.362Z"
   },
   {
    "duration": 17,
    "start_time": "2021-11-15T14:26:20.424Z"
   },
   {
    "duration": 5,
    "start_time": "2021-11-15T14:26:42.988Z"
   },
   {
    "duration": 16,
    "start_time": "2021-11-15T14:26:46.123Z"
   },
   {
    "duration": 7,
    "start_time": "2021-11-15T14:30:16.545Z"
   },
   {
    "duration": 22,
    "start_time": "2021-11-15T14:30:19.934Z"
   },
   {
    "duration": 570,
    "start_time": "2021-11-15T14:30:33.063Z"
   },
   {
    "duration": 48,
    "start_time": "2021-11-15T14:30:33.634Z"
   },
   {
    "duration": 15,
    "start_time": "2021-11-15T14:30:33.683Z"
   },
   {
    "duration": 27,
    "start_time": "2021-11-15T14:30:33.699Z"
   },
   {
    "duration": 7,
    "start_time": "2021-11-15T14:30:33.727Z"
   },
   {
    "duration": 28,
    "start_time": "2021-11-15T14:30:33.736Z"
   },
   {
    "duration": 572,
    "start_time": "2021-11-15T14:32:20.289Z"
   },
   {
    "duration": 46,
    "start_time": "2021-11-15T14:32:20.863Z"
   },
   {
    "duration": 16,
    "start_time": "2021-11-15T14:32:20.911Z"
   },
   {
    "duration": 7,
    "start_time": "2021-11-15T14:32:20.928Z"
   },
   {
    "duration": 9,
    "start_time": "2021-11-15T14:32:20.936Z"
   },
   {
    "duration": 605,
    "start_time": "2021-11-15T14:32:20.947Z"
   },
   {
    "duration": 460,
    "start_time": "2021-11-15T14:32:52.248Z"
   },
   {
    "duration": 1145,
    "start_time": "2021-11-15T14:33:30.032Z"
   },
   {
    "duration": 507,
    "start_time": "2021-11-15T14:33:37.034Z"
   },
   {
    "duration": 47,
    "start_time": "2021-11-15T14:33:37.543Z"
   },
   {
    "duration": 16,
    "start_time": "2021-11-15T14:33:37.592Z"
   },
   {
    "duration": 6,
    "start_time": "2021-11-15T14:33:37.610Z"
   },
   {
    "duration": 4,
    "start_time": "2021-11-15T14:33:37.617Z"
   },
   {
    "duration": 482,
    "start_time": "2021-11-15T14:33:37.622Z"
   },
   {
    "duration": 475,
    "start_time": "2021-11-15T14:34:00.164Z"
   },
   {
    "duration": 26,
    "start_time": "2021-11-15T14:34:23.694Z"
   },
   {
    "duration": 458,
    "start_time": "2021-11-15T14:34:37.183Z"
   },
   {
    "duration": 491,
    "start_time": "2021-11-15T14:35:11.043Z"
   },
   {
    "duration": 48,
    "start_time": "2021-11-15T14:35:11.536Z"
   },
   {
    "duration": 17,
    "start_time": "2021-11-15T14:35:11.586Z"
   },
   {
    "duration": 7,
    "start_time": "2021-11-15T14:35:11.605Z"
   },
   {
    "duration": 5,
    "start_time": "2021-11-15T14:35:11.614Z"
   },
   {
    "duration": 502,
    "start_time": "2021-11-15T14:35:11.620Z"
   },
   {
    "duration": 26,
    "start_time": "2021-11-15T14:35:56.335Z"
   },
   {
    "duration": 44,
    "start_time": "2021-11-15T14:36:31.211Z"
   },
   {
    "duration": 571,
    "start_time": "2021-11-15T14:36:41.516Z"
   },
   {
    "duration": 53,
    "start_time": "2021-11-15T14:36:42.089Z"
   },
   {
    "duration": 16,
    "start_time": "2021-11-15T14:36:42.144Z"
   },
   {
    "duration": 5,
    "start_time": "2021-11-15T14:36:42.162Z"
   },
   {
    "duration": 6,
    "start_time": "2021-11-15T14:36:42.168Z"
   },
   {
    "duration": 37,
    "start_time": "2021-11-15T14:36:42.175Z"
   },
   {
    "duration": 415,
    "start_time": "2021-11-15T14:38:40.166Z"
   },
   {
    "duration": 9,
    "start_time": "2021-11-15T14:39:31.937Z"
   },
   {
    "duration": 946,
    "start_time": "2021-11-15T14:45:20.475Z"
   },
   {
    "duration": 92,
    "start_time": "2021-11-15T14:45:21.422Z"
   },
   {
    "duration": 16,
    "start_time": "2021-11-15T14:45:21.516Z"
   },
   {
    "duration": 7,
    "start_time": "2021-11-15T14:45:21.533Z"
   },
   {
    "duration": 17,
    "start_time": "2021-11-15T14:45:21.541Z"
   },
   {
    "duration": 31,
    "start_time": "2021-11-15T14:45:21.560Z"
   },
   {
    "duration": 311,
    "start_time": "2021-11-15T14:47:46.046Z"
   },
   {
    "duration": 965,
    "start_time": "2021-11-15T14:48:57.305Z"
   },
   {
    "duration": 52,
    "start_time": "2021-11-15T14:48:58.272Z"
   },
   {
    "duration": 18,
    "start_time": "2021-11-15T14:48:58.326Z"
   },
   {
    "duration": 14,
    "start_time": "2021-11-15T14:48:58.346Z"
   },
   {
    "duration": 16,
    "start_time": "2021-11-15T14:48:58.362Z"
   },
   {
    "duration": 30,
    "start_time": "2021-11-15T14:48:58.380Z"
   },
   {
    "duration": 11,
    "start_time": "2021-11-15T14:48:58.412Z"
   },
   {
    "duration": 16,
    "start_time": "2021-11-15T14:51:27.568Z"
   },
   {
    "duration": 24,
    "start_time": "2021-11-15T14:52:44.395Z"
   },
   {
    "duration": 991,
    "start_time": "2021-11-15T14:59:49.303Z"
   },
   {
    "duration": 50,
    "start_time": "2021-11-15T14:59:50.296Z"
   },
   {
    "duration": 17,
    "start_time": "2021-11-15T14:59:50.348Z"
   },
   {
    "duration": 6,
    "start_time": "2021-11-15T14:59:50.367Z"
   },
   {
    "duration": 12,
    "start_time": "2021-11-15T14:59:50.375Z"
   },
   {
    "duration": 32,
    "start_time": "2021-11-15T14:59:50.389Z"
   },
   {
    "duration": 11,
    "start_time": "2021-11-15T14:59:50.423Z"
   },
   {
    "duration": 24,
    "start_time": "2021-11-15T14:59:50.436Z"
   },
   {
    "duration": 320,
    "start_time": "2021-11-15T14:59:50.462Z"
   },
   {
    "duration": 287,
    "start_time": "2021-11-15T15:00:01.214Z"
   },
   {
    "duration": 251,
    "start_time": "2021-11-15T15:00:04.554Z"
   },
   {
    "duration": 3,
    "start_time": "2021-11-15T15:00:28.511Z"
   },
   {
    "duration": 244,
    "start_time": "2021-11-15T15:00:32.935Z"
   },
   {
    "duration": 4,
    "start_time": "2021-11-15T15:01:19.661Z"
   },
   {
    "duration": 6,
    "start_time": "2021-11-15T15:05:52.533Z"
   },
   {
    "duration": 17,
    "start_time": "2021-11-15T15:05:55.515Z"
   },
   {
    "duration": 10,
    "start_time": "2021-11-15T15:05:59.448Z"
   },
   {
    "duration": 12,
    "start_time": "2021-11-15T15:06:01.602Z"
   },
   {
    "duration": 8,
    "start_time": "2021-11-15T15:06:03.472Z"
   },
   {
    "duration": 999,
    "start_time": "2021-11-15T15:06:09.607Z"
   },
   {
    "duration": 53,
    "start_time": "2021-11-15T15:06:10.608Z"
   },
   {
    "duration": 17,
    "start_time": "2021-11-15T15:06:10.664Z"
   },
   {
    "duration": 5,
    "start_time": "2021-11-15T15:06:10.687Z"
   },
   {
    "duration": 11,
    "start_time": "2021-11-15T15:06:10.694Z"
   },
   {
    "duration": 4,
    "start_time": "2021-11-15T15:06:10.707Z"
   },
   {
    "duration": 4,
    "start_time": "2021-11-15T15:06:10.713Z"
   },
   {
    "duration": 25,
    "start_time": "2021-11-15T15:06:10.720Z"
   },
   {
    "duration": 48,
    "start_time": "2021-11-15T15:06:10.746Z"
   },
   {
    "duration": 23,
    "start_time": "2021-11-15T15:06:10.796Z"
   },
   {
    "duration": 357,
    "start_time": "2021-11-15T15:06:10.820Z"
   },
   {
    "duration": 251,
    "start_time": "2021-11-15T15:06:19.800Z"
   },
   {
    "duration": 412,
    "start_time": "2021-11-15T15:06:29.884Z"
   },
   {
    "duration": 54,
    "start_time": "2021-11-15T15:09:37.994Z"
   },
   {
    "duration": 321,
    "start_time": "2021-11-15T15:11:32.846Z"
   },
   {
    "duration": 285,
    "start_time": "2021-11-15T15:11:41.200Z"
   },
   {
    "duration": 341,
    "start_time": "2021-11-15T15:11:53.989Z"
   },
   {
    "duration": 247,
    "start_time": "2021-11-15T15:12:07.605Z"
   },
   {
    "duration": 10,
    "start_time": "2021-11-15T15:12:38.597Z"
   },
   {
    "duration": 9201,
    "start_time": "2021-11-15T15:12:42.181Z"
   },
   {
    "duration": 14232,
    "start_time": "2021-11-15T15:13:05.047Z"
   },
   {
    "duration": 9579,
    "start_time": "2021-11-15T15:13:42.662Z"
   },
   {
    "duration": 10224,
    "start_time": "2021-11-15T15:14:31.021Z"
   },
   {
    "duration": 47322,
    "start_time": "2021-11-15T15:14:43.154Z"
   },
   {
    "duration": 3,
    "start_time": "2021-11-15T15:18:47.609Z"
   },
   {
    "duration": 46554,
    "start_time": "2021-11-15T15:19:04.160Z"
   },
   {
    "duration": 263,
    "start_time": "2021-11-15T15:20:53.344Z"
   },
   {
    "duration": 11,
    "start_time": "2021-11-15T15:20:55.589Z"
   },
   {
    "duration": 45623,
    "start_time": "2021-11-15T15:21:05.759Z"
   },
   {
    "duration": 46381,
    "start_time": "2021-11-15T15:22:25.496Z"
   },
   {
    "duration": 46459,
    "start_time": "2021-11-15T15:25:08.060Z"
   },
   {
    "duration": 46370,
    "start_time": "2021-11-15T15:26:44.090Z"
   },
   {
    "duration": 320,
    "start_time": "2021-11-15T15:28:41.932Z"
   },
   {
    "duration": 4,
    "start_time": "2021-11-15T15:28:47.535Z"
   },
   {
    "duration": 293,
    "start_time": "2021-11-15T15:28:50.258Z"
   },
   {
    "duration": 246,
    "start_time": "2021-11-15T15:29:10.971Z"
   },
   {
    "duration": 8,
    "start_time": "2021-11-15T15:30:18.909Z"
   },
   {
    "duration": 245,
    "start_time": "2021-11-15T15:30:34.686Z"
   },
   {
    "duration": 9,
    "start_time": "2021-11-15T15:30:43.302Z"
   },
   {
    "duration": 19,
    "start_time": "2021-11-15T15:30:57.457Z"
   },
   {
    "duration": 10,
    "start_time": "2021-11-15T15:31:55.769Z"
   },
   {
    "duration": 10,
    "start_time": "2021-11-15T15:32:00.887Z"
   },
   {
    "duration": 163,
    "start_time": "2021-11-15T15:34:14.590Z"
   },
   {
    "duration": 466,
    "start_time": "2021-11-15T15:34:49.267Z"
   },
   {
    "duration": 264,
    "start_time": "2021-11-15T15:35:53.011Z"
   },
   {
    "duration": 271,
    "start_time": "2021-11-15T15:35:59.901Z"
   },
   {
    "duration": 425,
    "start_time": "2021-11-15T15:36:05.603Z"
   },
   {
    "duration": 153,
    "start_time": "2021-11-15T15:36:13.556Z"
   },
   {
    "duration": 151,
    "start_time": "2021-11-15T15:36:32.876Z"
   },
   {
    "duration": 192,
    "start_time": "2021-11-15T15:36:57.020Z"
   },
   {
    "duration": 189,
    "start_time": "2021-11-15T15:37:07.906Z"
   },
   {
    "duration": 159,
    "start_time": "2021-11-15T15:37:17.000Z"
   },
   {
    "duration": 47693,
    "start_time": "2021-11-15T15:41:02.894Z"
   },
   {
    "duration": 155,
    "start_time": "2021-11-15T15:42:39.722Z"
   },
   {
    "duration": 47108,
    "start_time": "2021-11-15T15:45:10.295Z"
   },
   {
    "duration": 163,
    "start_time": "2021-11-15T15:45:57.404Z"
   },
   {
    "duration": 6416,
    "start_time": "2021-11-15T15:48:03.227Z"
   },
   {
    "duration": 11,
    "start_time": "2021-11-15T15:48:19.416Z"
   },
   {
    "duration": 17,
    "start_time": "2021-11-15T15:48:25.703Z"
   },
   {
    "duration": 18,
    "start_time": "2021-11-15T15:48:35.277Z"
   },
   {
    "duration": 12,
    "start_time": "2021-11-15T15:49:22.035Z"
   },
   {
    "duration": 7,
    "start_time": "2021-11-15T15:49:27.880Z"
   },
   {
    "duration": 6,
    "start_time": "2021-11-15T15:49:37.945Z"
   },
   {
    "duration": 6,
    "start_time": "2021-11-15T15:50:06.353Z"
   },
   {
    "duration": 6,
    "start_time": "2021-11-15T15:50:11.394Z"
   },
   {
    "duration": 9,
    "start_time": "2021-11-15T15:51:08.571Z"
   },
   {
    "duration": 9,
    "start_time": "2021-11-15T15:51:12.794Z"
   },
   {
    "duration": 9,
    "start_time": "2021-11-15T15:51:15.731Z"
   },
   {
    "duration": 9,
    "start_time": "2021-11-15T15:56:19.186Z"
   },
   {
    "duration": 9,
    "start_time": "2021-11-15T15:56:25.120Z"
   },
   {
    "duration": 435,
    "start_time": "2021-11-15T15:57:54.624Z"
   },
   {
    "duration": 4,
    "start_time": "2021-11-15T15:58:26.941Z"
   },
   {
    "duration": 20,
    "start_time": "2021-11-15T15:58:29.726Z"
   },
   {
    "duration": 10,
    "start_time": "2021-11-15T15:59:02.727Z"
   },
   {
    "duration": 21,
    "start_time": "2021-11-15T15:59:08.001Z"
   },
   {
    "duration": 61,
    "start_time": "2021-11-15T15:59:10.782Z"
   },
   {
    "duration": 1163,
    "start_time": "2021-11-15T16:01:41.452Z"
   },
   {
    "duration": 49,
    "start_time": "2021-11-15T16:01:42.616Z"
   },
   {
    "duration": 21,
    "start_time": "2021-11-15T16:01:42.667Z"
   },
   {
    "duration": 4,
    "start_time": "2021-11-15T16:01:42.689Z"
   },
   {
    "duration": 12,
    "start_time": "2021-11-15T16:01:42.694Z"
   },
   {
    "duration": 3,
    "start_time": "2021-11-15T16:01:42.708Z"
   },
   {
    "duration": 4,
    "start_time": "2021-11-15T16:01:42.713Z"
   },
   {
    "duration": 26,
    "start_time": "2021-11-15T16:01:42.719Z"
   },
   {
    "duration": 337,
    "start_time": "2021-11-15T16:01:42.747Z"
   },
   {
    "duration": -26,
    "start_time": "2021-11-15T16:01:43.112Z"
   },
   {
    "duration": -29,
    "start_time": "2021-11-15T16:01:43.115Z"
   },
   {
    "duration": -35,
    "start_time": "2021-11-15T16:01:43.122Z"
   },
   {
    "duration": -36,
    "start_time": "2021-11-15T16:01:43.124Z"
   },
   {
    "duration": -39,
    "start_time": "2021-11-15T16:01:43.128Z"
   },
   {
    "duration": 250,
    "start_time": "2021-11-15T16:02:19.962Z"
   },
   {
    "duration": 12,
    "start_time": "2021-11-15T16:02:44.473Z"
   },
   {
    "duration": 24,
    "start_time": "2021-11-15T16:02:47.493Z"
   },
   {
    "duration": 47719,
    "start_time": "2021-11-15T16:02:48.606Z"
   },
   {
    "duration": 164,
    "start_time": "2021-11-15T16:03:36.327Z"
   },
   {
    "duration": 8,
    "start_time": "2021-11-15T16:03:36.493Z"
   },
   {
    "duration": 20,
    "start_time": "2021-11-15T16:03:36.503Z"
   },
   {
    "duration": 331,
    "start_time": "2021-11-15T16:06:22.779Z"
   },
   {
    "duration": 1110,
    "start_time": "2021-11-15T16:06:31.009Z"
   },
   {
    "duration": 49,
    "start_time": "2021-11-15T16:06:32.120Z"
   },
   {
    "duration": 17,
    "start_time": "2021-11-15T16:06:32.171Z"
   },
   {
    "duration": 14,
    "start_time": "2021-11-15T16:06:32.189Z"
   },
   {
    "duration": 13,
    "start_time": "2021-11-15T16:06:32.204Z"
   },
   {
    "duration": 4,
    "start_time": "2021-11-15T16:06:32.218Z"
   },
   {
    "duration": 11,
    "start_time": "2021-11-15T16:06:32.223Z"
   },
   {
    "duration": 26,
    "start_time": "2021-11-15T16:06:32.236Z"
   },
   {
    "duration": 10,
    "start_time": "2021-11-15T16:06:32.264Z"
   },
   {
    "duration": 23,
    "start_time": "2021-11-15T16:06:32.275Z"
   },
   {
    "duration": 47184,
    "start_time": "2021-11-15T16:06:32.299Z"
   },
   {
    "duration": 215,
    "start_time": "2021-11-15T16:07:19.487Z"
   },
   {
    "duration": 8,
    "start_time": "2021-11-15T16:07:19.703Z"
   },
   {
    "duration": 17,
    "start_time": "2021-11-15T16:07:19.713Z"
   },
   {
    "duration": 640,
    "start_time": "2021-11-15T16:07:19.731Z"
   },
   {
    "duration": 235,
    "start_time": "2021-11-15T16:10:08.478Z"
   },
   {
    "duration": 1116,
    "start_time": "2021-11-15T16:10:15.592Z"
   },
   {
    "duration": 48,
    "start_time": "2021-11-15T16:10:16.709Z"
   },
   {
    "duration": 16,
    "start_time": "2021-11-15T16:10:16.759Z"
   },
   {
    "duration": 11,
    "start_time": "2021-11-15T16:10:16.777Z"
   },
   {
    "duration": 9,
    "start_time": "2021-11-15T16:10:16.790Z"
   },
   {
    "duration": 4,
    "start_time": "2021-11-15T16:10:16.801Z"
   },
   {
    "duration": 11,
    "start_time": "2021-11-15T16:10:16.806Z"
   },
   {
    "duration": 25,
    "start_time": "2021-11-15T16:10:16.819Z"
   },
   {
    "duration": 9,
    "start_time": "2021-11-15T16:10:16.846Z"
   },
   {
    "duration": 47,
    "start_time": "2021-11-15T16:10:16.857Z"
   },
   {
    "duration": 46366,
    "start_time": "2021-11-15T16:10:16.905Z"
   },
   {
    "duration": 168,
    "start_time": "2021-11-15T16:11:03.273Z"
   },
   {
    "duration": 9,
    "start_time": "2021-11-15T16:11:03.442Z"
   },
   {
    "duration": 18,
    "start_time": "2021-11-15T16:11:03.452Z"
   },
   {
    "duration": 22,
    "start_time": "2021-11-15T16:11:03.471Z"
   },
   {
    "duration": 27,
    "start_time": "2021-11-15T16:11:16.574Z"
   },
   {
    "duration": 601,
    "start_time": "2021-11-15T16:11:29.098Z"
   },
   {
    "duration": 4,
    "start_time": "2021-11-15T16:11:55.030Z"
   },
   {
    "duration": 4,
    "start_time": "2021-11-15T16:12:03.800Z"
   },
   {
    "duration": 1146,
    "start_time": "2021-11-15T16:14:16.057Z"
   },
   {
    "duration": 50,
    "start_time": "2021-11-15T16:14:17.204Z"
   },
   {
    "duration": 18,
    "start_time": "2021-11-15T16:14:17.255Z"
   },
   {
    "duration": 13,
    "start_time": "2021-11-15T16:14:17.275Z"
   },
   {
    "duration": 10,
    "start_time": "2021-11-15T16:14:17.289Z"
   },
   {
    "duration": 4,
    "start_time": "2021-11-15T16:14:17.301Z"
   },
   {
    "duration": 6,
    "start_time": "2021-11-15T16:14:17.306Z"
   },
   {
    "duration": 23,
    "start_time": "2021-11-15T16:14:17.314Z"
   },
   {
    "duration": 10,
    "start_time": "2021-11-15T16:14:17.339Z"
   },
   {
    "duration": 52,
    "start_time": "2021-11-15T16:14:17.350Z"
   },
   {
    "duration": 47087,
    "start_time": "2021-11-15T16:14:17.404Z"
   },
   {
    "duration": 208,
    "start_time": "2021-11-15T16:15:04.494Z"
   },
   {
    "duration": 9,
    "start_time": "2021-11-15T16:15:04.704Z"
   },
   {
    "duration": 19,
    "start_time": "2021-11-15T16:15:04.715Z"
   },
   {
    "duration": 64165,
    "start_time": "2021-11-15T16:15:04.735Z"
   },
   {
    "duration": 152,
    "start_time": "2021-11-15T16:16:40.804Z"
   },
   {
    "duration": 323,
    "start_time": "2021-11-15T16:21:43.094Z"
   },
   {
    "duration": 4,
    "start_time": "2021-11-15T16:21:56.118Z"
   },
   {
    "duration": 25,
    "start_time": "2021-11-15T16:21:56.773Z"
   },
   {
    "duration": 25,
    "start_time": "2021-11-15T16:22:12.495Z"
   },
   {
    "duration": 25,
    "start_time": "2021-11-15T16:22:19.253Z"
   },
   {
    "duration": 25,
    "start_time": "2021-11-15T16:22:22.446Z"
   },
   {
    "duration": 32,
    "start_time": "2021-11-15T16:22:24.437Z"
   },
   {
    "duration": 25,
    "start_time": "2021-11-15T16:22:27.508Z"
   },
   {
    "duration": 23,
    "start_time": "2021-11-15T16:22:41.661Z"
   },
   {
    "duration": 41119,
    "start_time": "2021-11-15T16:22:53.662Z"
   },
   {
    "duration": 164,
    "start_time": "2021-11-15T16:23:34.783Z"
   },
   {
    "duration": 19,
    "start_time": "2021-11-15T16:24:52.994Z"
   },
   {
    "duration": 63620,
    "start_time": "2021-11-15T16:27:06.386Z"
   },
   {
    "duration": 174,
    "start_time": "2021-11-15T16:28:10.009Z"
   },
   {
    "duration": 4,
    "start_time": "2021-11-15T16:33:43.229Z"
   },
   {
    "duration": 430,
    "start_time": "2021-11-15T16:38:54.087Z"
   },
   {
    "duration": 30,
    "start_time": "2021-11-15T16:39:03.754Z"
   },
   {
    "duration": 11438,
    "start_time": "2021-11-15T16:39:13.451Z"
   },
   {
    "duration": 1140,
    "start_time": "2021-11-15T16:39:31.958Z"
   },
   {
    "duration": 48,
    "start_time": "2021-11-15T16:39:33.099Z"
   },
   {
    "duration": 15,
    "start_time": "2021-11-15T16:39:33.149Z"
   },
   {
    "duration": 5,
    "start_time": "2021-11-15T16:39:33.166Z"
   },
   {
    "duration": 18,
    "start_time": "2021-11-15T16:39:33.173Z"
   },
   {
    "duration": 4,
    "start_time": "2021-11-15T16:39:33.193Z"
   },
   {
    "duration": 4,
    "start_time": "2021-11-15T16:39:33.199Z"
   },
   {
    "duration": 24,
    "start_time": "2021-11-15T16:39:33.206Z"
   },
   {
    "duration": 10,
    "start_time": "2021-11-15T16:39:33.233Z"
   },
   {
    "duration": 56,
    "start_time": "2021-11-15T16:39:33.245Z"
   },
   {
    "duration": 46010,
    "start_time": "2021-11-15T16:39:33.303Z"
   },
   {
    "duration": 225,
    "start_time": "2021-11-15T16:40:19.314Z"
   },
   {
    "duration": 5505,
    "start_time": "2021-11-15T16:40:19.541Z"
   },
   {
    "duration": 9,
    "start_time": "2021-11-15T16:40:25.048Z"
   },
   {
    "duration": 32,
    "start_time": "2021-11-15T16:40:25.058Z"
   },
   {
    "duration": 63225,
    "start_time": "2021-11-15T16:40:25.092Z"
   },
   {
    "duration": 175,
    "start_time": "2021-11-15T16:41:28.319Z"
   },
   {
    "duration": 4,
    "start_time": "2021-11-15T16:41:28.496Z"
   },
   {
    "duration": 28,
    "start_time": "2021-11-15T16:41:28.502Z"
   },
   {
    "duration": 40645,
    "start_time": "2021-11-15T16:41:28.532Z"
   },
   {
    "duration": 162,
    "start_time": "2021-11-15T16:42:09.179Z"
   },
   {
    "duration": 19,
    "start_time": "2021-11-15T16:42:09.342Z"
   },
   {
    "duration": 89,
    "start_time": "2021-11-15T16:42:09.363Z"
   },
   {
    "duration": 6326,
    "start_time": "2021-11-15T16:43:16.587Z"
   },
   {
    "duration": 409,
    "start_time": "2021-11-15T16:47:33.660Z"
   },
   {
    "duration": 362,
    "start_time": "2021-11-15T16:48:15.008Z"
   },
   {
    "duration": 6285,
    "start_time": "2021-11-15T16:50:22.859Z"
   },
   {
    "duration": 6512,
    "start_time": "2021-11-15T16:50:56.712Z"
   },
   {
    "duration": 434,
    "start_time": "2021-11-15T16:51:57.940Z"
   },
   {
    "duration": 564,
    "start_time": "2021-11-15T16:52:14.148Z"
   },
   {
    "duration": 7463,
    "start_time": "2021-11-15T16:52:20.680Z"
   },
   {
    "duration": 2667,
    "start_time": "2021-11-15T16:52:33.424Z"
   },
   {
    "duration": 5702,
    "start_time": "2021-11-15T16:52:39.895Z"
   },
   {
    "duration": 1045,
    "start_time": "2021-11-15T16:54:39.248Z"
   },
   {
    "duration": 50,
    "start_time": "2021-11-15T16:54:40.295Z"
   },
   {
    "duration": 16,
    "start_time": "2021-11-15T16:54:40.347Z"
   },
   {
    "duration": 9,
    "start_time": "2021-11-15T16:54:40.365Z"
   },
   {
    "duration": 14,
    "start_time": "2021-11-15T16:54:40.376Z"
   },
   {
    "duration": 6,
    "start_time": "2021-11-15T16:54:40.392Z"
   },
   {
    "duration": 5,
    "start_time": "2021-11-15T16:54:40.399Z"
   },
   {
    "duration": 29,
    "start_time": "2021-11-15T16:54:40.407Z"
   },
   {
    "duration": 13,
    "start_time": "2021-11-15T16:54:40.439Z"
   },
   {
    "duration": 61,
    "start_time": "2021-11-15T16:54:40.454Z"
   },
   {
    "duration": 46646,
    "start_time": "2021-11-15T16:54:40.517Z"
   },
   {
    "duration": 199,
    "start_time": "2021-11-15T16:55:27.164Z"
   },
   {
    "duration": 5883,
    "start_time": "2021-11-15T16:55:27.365Z"
   },
   {
    "duration": 11,
    "start_time": "2021-11-15T16:55:33.250Z"
   },
   {
    "duration": 32,
    "start_time": "2021-11-15T16:55:33.263Z"
   },
   {
    "duration": 64159,
    "start_time": "2021-11-15T16:55:33.296Z"
   },
   {
    "duration": 163,
    "start_time": "2021-11-15T16:56:37.456Z"
   },
   {
    "duration": 4,
    "start_time": "2021-11-15T16:56:37.620Z"
   },
   {
    "duration": 26,
    "start_time": "2021-11-15T16:56:37.626Z"
   },
   {
    "duration": 40391,
    "start_time": "2021-11-15T16:56:37.654Z"
   },
   {
    "duration": 163,
    "start_time": "2021-11-15T16:57:18.047Z"
   },
   {
    "duration": 19,
    "start_time": "2021-11-15T16:57:18.212Z"
   },
   {
    "duration": 6390,
    "start_time": "2021-11-15T16:57:18.234Z"
   },
   {
    "duration": 6552,
    "start_time": "2021-11-15T16:57:24.626Z"
   },
   {
    "duration": 6262,
    "start_time": "2021-11-15T16:57:31.180Z"
   },
   {
    "duration": 451,
    "start_time": "2021-11-15T17:00:14.756Z"
   },
   {
    "duration": 4,
    "start_time": "2021-11-15T17:01:09.595Z"
   },
   {
    "duration": 4,
    "start_time": "2021-11-15T17:01:16.649Z"
   },
   {
    "duration": 4,
    "start_time": "2021-11-15T17:01:23.503Z"
   },
   {
    "duration": 4,
    "start_time": "2021-11-15T17:01:33.829Z"
   },
   {
    "duration": 6,
    "start_time": "2021-11-15T17:02:08.793Z"
   },
   {
    "duration": 5,
    "start_time": "2021-11-15T17:02:23.928Z"
   },
   {
    "duration": 6,
    "start_time": "2021-11-15T17:02:41.014Z"
   },
   {
    "duration": 9,
    "start_time": "2021-11-15T17:02:45.649Z"
   },
   {
    "duration": 8,
    "start_time": "2021-11-15T17:02:58.269Z"
   },
   {
    "duration": 13,
    "start_time": "2021-11-15T17:03:04.055Z"
   },
   {
    "duration": 9,
    "start_time": "2021-11-15T17:03:26.002Z"
   },
   {
    "duration": 13,
    "start_time": "2021-11-15T17:03:34.065Z"
   },
   {
    "duration": 8,
    "start_time": "2021-11-15T17:03:54.141Z"
   },
   {
    "duration": 9,
    "start_time": "2021-11-15T17:04:03.806Z"
   },
   {
    "duration": 10,
    "start_time": "2021-11-15T17:04:09.722Z"
   },
   {
    "duration": 20,
    "start_time": "2021-11-15T17:04:25.568Z"
   },
   {
    "duration": 17,
    "start_time": "2021-11-15T17:04:36.118Z"
   },
   {
    "duration": 10,
    "start_time": "2021-11-15T17:04:42.208Z"
   },
   {
    "duration": 9,
    "start_time": "2021-11-15T17:04:46.939Z"
   },
   {
    "duration": 279,
    "start_time": "2021-11-15T17:04:52.086Z"
   },
   {
    "duration": 12,
    "start_time": "2021-11-15T17:05:01.432Z"
   },
   {
    "duration": 69,
    "start_time": "2021-11-15T17:05:05.519Z"
   },
   {
    "duration": 12,
    "start_time": "2021-11-15T17:05:54.975Z"
   },
   {
    "duration": 7,
    "start_time": "2021-11-15T17:05:56.966Z"
   },
   {
    "duration": 10,
    "start_time": "2021-11-15T17:06:02.538Z"
   },
   {
    "duration": 15,
    "start_time": "2021-11-15T17:06:04.510Z"
   },
   {
    "duration": 11,
    "start_time": "2021-11-15T17:06:18.136Z"
   },
   {
    "duration": 322,
    "start_time": "2021-11-15T17:06:30.567Z"
   },
   {
    "duration": 9,
    "start_time": "2021-11-15T17:06:35.889Z"
   },
   {
    "duration": 366,
    "start_time": "2021-11-15T17:06:40.716Z"
   },
   {
    "duration": 273,
    "start_time": "2021-11-15T17:06:46.796Z"
   },
   {
    "duration": 267,
    "start_time": "2021-11-15T17:06:52.437Z"
   },
   {
    "duration": 16,
    "start_time": "2021-11-15T17:06:59.573Z"
   },
   {
    "duration": 12,
    "start_time": "2021-11-15T17:07:33.404Z"
   },
   {
    "duration": 14,
    "start_time": "2021-11-15T17:07:37.940Z"
   },
   {
    "duration": 9,
    "start_time": "2021-11-15T17:07:43.042Z"
   },
   {
    "duration": 13,
    "start_time": "2021-11-15T17:07:50.413Z"
   },
   {
    "duration": 16,
    "start_time": "2021-11-15T17:08:56.531Z"
   },
   {
    "duration": 343,
    "start_time": "2021-11-15T17:09:06.012Z"
   },
   {
    "duration": 20,
    "start_time": "2021-11-15T17:09:20.844Z"
   },
   {
    "duration": 68,
    "start_time": "2021-11-15T17:09:32.620Z"
   },
   {
    "duration": 12,
    "start_time": "2021-11-15T17:09:40.039Z"
   },
   {
    "duration": 6435,
    "start_time": "2021-11-15T17:10:05.087Z"
   },
   {
    "duration": 1782,
    "start_time": "2021-11-15T17:10:11.524Z"
   },
   {
    "duration": 6327,
    "start_time": "2021-11-15T17:10:13.308Z"
   },
   {
    "duration": 51,
    "start_time": "2021-11-15T17:10:19.636Z"
   },
   {
    "duration": 1140,
    "start_time": "2021-11-15T17:11:09.372Z"
   },
   {
    "duration": 53,
    "start_time": "2021-11-15T17:11:10.514Z"
   },
   {
    "duration": 21,
    "start_time": "2021-11-15T17:11:10.569Z"
   },
   {
    "duration": 5,
    "start_time": "2021-11-15T17:11:10.591Z"
   },
   {
    "duration": 14,
    "start_time": "2021-11-15T17:11:10.597Z"
   },
   {
    "duration": 4,
    "start_time": "2021-11-15T17:11:10.613Z"
   },
   {
    "duration": 15,
    "start_time": "2021-11-15T17:11:10.619Z"
   },
   {
    "duration": 25,
    "start_time": "2021-11-15T17:11:10.636Z"
   },
   {
    "duration": 26,
    "start_time": "2021-11-15T17:11:10.662Z"
   },
   {
    "duration": 22,
    "start_time": "2021-11-15T17:11:10.690Z"
   },
   {
    "duration": 46192,
    "start_time": "2021-11-15T17:11:10.713Z"
   },
   {
    "duration": 168,
    "start_time": "2021-11-15T17:11:56.907Z"
   },
   {
    "duration": 5493,
    "start_time": "2021-11-15T17:11:57.077Z"
   },
   {
    "duration": 18,
    "start_time": "2021-11-15T17:12:02.572Z"
   },
   {
    "duration": 18,
    "start_time": "2021-11-15T17:12:02.592Z"
   },
   {
    "duration": 63316,
    "start_time": "2021-11-15T17:12:02.612Z"
   },
   {
    "duration": 162,
    "start_time": "2021-11-15T17:13:05.930Z"
   },
   {
    "duration": 4,
    "start_time": "2021-11-15T17:13:06.093Z"
   },
   {
    "duration": 27,
    "start_time": "2021-11-15T17:13:06.098Z"
   },
   {
    "duration": 40739,
    "start_time": "2021-11-15T17:13:06.126Z"
   },
   {
    "duration": 287,
    "start_time": "2021-11-15T17:13:46.867Z"
   },
   {
    "duration": 19,
    "start_time": "2021-11-15T17:13:47.156Z"
   },
   {
    "duration": 6137,
    "start_time": "2021-11-15T17:13:47.177Z"
   },
   {
    "duration": 1920,
    "start_time": "2021-11-15T17:13:53.316Z"
   },
   {
    "duration": 6112,
    "start_time": "2021-11-15T17:13:55.238Z"
   },
   {
    "duration": 39,
    "start_time": "2021-11-15T17:14:01.352Z"
   },
   {
    "duration": 8,
    "start_time": "2021-11-15T17:19:53.180Z"
   },
   {
    "duration": 6,
    "start_time": "2021-11-15T17:23:05.481Z"
   },
   {
    "duration": 8,
    "start_time": "2021-11-15T18:28:38.515Z"
   },
   {
    "duration": 382,
    "start_time": "2021-11-15T18:28:47.151Z"
   },
   {
    "duration": 283,
    "start_time": "2021-11-15T18:29:05.888Z"
   },
   {
    "duration": 8,
    "start_time": "2021-11-15T18:29:29.190Z"
   },
   {
    "duration": 1139,
    "start_time": "2021-11-15T18:30:50.230Z"
   },
   {
    "duration": 51,
    "start_time": "2021-11-15T18:30:51.372Z"
   },
   {
    "duration": 17,
    "start_time": "2021-11-15T18:30:51.425Z"
   },
   {
    "duration": 4,
    "start_time": "2021-11-15T18:30:51.443Z"
   },
   {
    "duration": 13,
    "start_time": "2021-11-15T18:30:51.448Z"
   },
   {
    "duration": 4,
    "start_time": "2021-11-15T18:30:51.463Z"
   },
   {
    "duration": 5,
    "start_time": "2021-11-15T18:30:51.488Z"
   },
   {
    "duration": 25,
    "start_time": "2021-11-15T18:30:51.496Z"
   },
   {
    "duration": 9,
    "start_time": "2021-11-15T18:30:51.524Z"
   },
   {
    "duration": 26,
    "start_time": "2021-11-15T18:30:51.535Z"
   },
   {
    "duration": 1067,
    "start_time": "2021-11-15T18:31:41.745Z"
   },
   {
    "duration": 50,
    "start_time": "2021-11-15T18:31:42.814Z"
   },
   {
    "duration": 27,
    "start_time": "2021-11-15T18:31:42.867Z"
   },
   {
    "duration": 5,
    "start_time": "2021-11-15T18:31:42.896Z"
   },
   {
    "duration": 24,
    "start_time": "2021-11-15T18:31:42.902Z"
   },
   {
    "duration": 4,
    "start_time": "2021-11-15T18:31:42.928Z"
   },
   {
    "duration": 8,
    "start_time": "2021-11-15T18:31:42.934Z"
   },
   {
    "duration": 44,
    "start_time": "2021-11-15T18:31:42.945Z"
   },
   {
    "duration": 13,
    "start_time": "2021-11-15T18:31:42.992Z"
   },
   {
    "duration": 29,
    "start_time": "2021-11-15T18:31:43.007Z"
   },
   {
    "duration": 50561,
    "start_time": "2021-11-15T18:31:43.038Z"
   },
   {
    "duration": 3522,
    "start_time": "2021-11-15T18:32:33.601Z"
   },
   {
    "duration": 4806,
    "start_time": "2021-11-15T18:32:37.124Z"
   },
   {
    "duration": 8,
    "start_time": "2021-11-15T18:32:41.932Z"
   },
   {
    "duration": 18,
    "start_time": "2021-11-15T18:32:41.941Z"
   },
   {
    "duration": 70030,
    "start_time": "2021-11-15T18:32:41.960Z"
   },
   {
    "duration": 3397,
    "start_time": "2021-11-15T18:33:51.992Z"
   },
   {
    "duration": 3,
    "start_time": "2021-11-15T18:33:55.391Z"
   },
   {
    "duration": 28,
    "start_time": "2021-11-15T18:33:55.396Z"
   },
   {
    "duration": 43211,
    "start_time": "2021-11-15T18:33:55.426Z"
   },
   {
    "duration": 3011,
    "start_time": "2021-11-15T18:34:38.639Z"
   },
   {
    "duration": 17,
    "start_time": "2021-11-15T18:34:41.652Z"
   },
   {
    "duration": 5243,
    "start_time": "2021-11-15T18:34:41.671Z"
   },
   {
    "duration": 1697,
    "start_time": "2021-11-15T18:34:46.916Z"
   },
   {
    "duration": 5406,
    "start_time": "2021-11-15T18:34:48.615Z"
   },
   {
    "duration": 9,
    "start_time": "2021-11-15T18:34:54.022Z"
   },
   {
    "duration": 284,
    "start_time": "2021-11-15T18:37:09.747Z"
   },
   {
    "duration": 337,
    "start_time": "2021-11-15T18:37:21.573Z"
   },
   {
    "duration": 425,
    "start_time": "2021-11-15T18:38:08.255Z"
   },
   {
    "duration": 292,
    "start_time": "2021-11-15T18:38:16.220Z"
   },
   {
    "duration": 303,
    "start_time": "2021-11-15T18:38:37.918Z"
   },
   {
    "duration": 300,
    "start_time": "2021-11-15T18:38:45.532Z"
   },
   {
    "duration": 334,
    "start_time": "2021-11-15T18:39:40.453Z"
   },
   {
    "duration": 337,
    "start_time": "2021-11-15T18:39:55.412Z"
   },
   {
    "duration": 10,
    "start_time": "2021-11-15T18:40:46.903Z"
   },
   {
    "duration": 1107,
    "start_time": "2021-11-15T18:40:59.889Z"
   },
   {
    "duration": 50,
    "start_time": "2021-11-15T18:41:00.998Z"
   },
   {
    "duration": 18,
    "start_time": "2021-11-15T18:41:02.667Z"
   },
   {
    "duration": 5,
    "start_time": "2021-11-15T18:41:04.864Z"
   },
   {
    "duration": 10,
    "start_time": "2021-11-15T18:41:07.344Z"
   },
   {
    "duration": 4,
    "start_time": "2021-11-15T18:41:09.282Z"
   },
   {
    "duration": 4,
    "start_time": "2021-11-15T18:41:11.115Z"
   },
   {
    "duration": 25,
    "start_time": "2021-11-15T18:41:15.679Z"
   },
   {
    "duration": 12,
    "start_time": "2021-11-15T18:41:18.743Z"
   },
   {
    "duration": 21,
    "start_time": "2021-11-15T18:41:22.249Z"
   },
   {
    "duration": 49823,
    "start_time": "2021-11-15T18:41:36.746Z"
   },
   {
    "duration": 185,
    "start_time": "2021-11-15T18:42:26.570Z"
   },
   {
    "duration": 323,
    "start_time": "2021-11-15T18:42:51.810Z"
   },
   {
    "duration": 9,
    "start_time": "2021-11-15T18:43:24.906Z"
   },
   {
    "duration": 20,
    "start_time": "2021-11-15T18:43:29.278Z"
   },
   {
    "duration": 71005,
    "start_time": "2021-11-15T18:43:52.651Z"
   },
   {
    "duration": 189,
    "start_time": "2021-11-15T18:45:14.611Z"
   },
   {
    "duration": 3,
    "start_time": "2021-11-15T18:46:14.699Z"
   },
   {
    "duration": 23,
    "start_time": "2021-11-15T18:46:20.893Z"
   },
   {
    "duration": 44155,
    "start_time": "2021-11-15T18:46:26.429Z"
   },
   {
    "duration": 174,
    "start_time": "2021-11-15T18:47:23.806Z"
   },
   {
    "duration": 302,
    "start_time": "2021-11-15T18:48:05.028Z"
   },
   {
    "duration": 45463,
    "start_time": "2021-11-15T18:49:36.039Z"
   },
   {
    "duration": 1109,
    "start_time": "2021-11-15T18:53:00.405Z"
   },
   {
    "duration": 50,
    "start_time": "2021-11-15T18:53:01.516Z"
   },
   {
    "duration": 17,
    "start_time": "2021-11-15T18:53:02.183Z"
   },
   {
    "duration": 4,
    "start_time": "2021-11-15T18:53:03.550Z"
   },
   {
    "duration": 11,
    "start_time": "2021-11-15T18:53:04.254Z"
   },
   {
    "duration": 5,
    "start_time": "2021-11-15T18:53:04.846Z"
   },
   {
    "duration": 5,
    "start_time": "2021-11-15T18:53:05.061Z"
   },
   {
    "duration": 26,
    "start_time": "2021-11-15T18:53:05.491Z"
   },
   {
    "duration": 12,
    "start_time": "2021-11-15T18:53:05.882Z"
   },
   {
    "duration": 21,
    "start_time": "2021-11-15T18:53:06.248Z"
   },
   {
    "duration": 50031,
    "start_time": "2021-11-15T18:53:07.305Z"
   },
   {
    "duration": 193,
    "start_time": "2021-11-15T18:53:57.338Z"
   },
   {
    "duration": 376,
    "start_time": "2021-11-15T18:53:57.534Z"
   },
   {
    "duration": 8,
    "start_time": "2021-11-15T18:53:57.913Z"
   },
   {
    "duration": 18,
    "start_time": "2021-11-15T18:53:57.923Z"
   },
   {
    "duration": 70767,
    "start_time": "2021-11-15T18:53:57.943Z"
   },
   {
    "duration": 208,
    "start_time": "2021-11-15T18:55:08.711Z"
   },
   {
    "duration": 4,
    "start_time": "2021-11-15T18:55:08.921Z"
   },
   {
    "duration": 26,
    "start_time": "2021-11-15T18:55:08.926Z"
   },
   {
    "duration": 43756,
    "start_time": "2021-11-15T18:55:08.953Z"
   },
   {
    "duration": 188,
    "start_time": "2021-11-15T18:55:52.711Z"
   },
   {
    "duration": 19,
    "start_time": "2021-11-15T18:55:52.901Z"
   },
   {
    "duration": 410,
    "start_time": "2021-11-15T18:55:52.922Z"
   },
   {
    "duration": 1706,
    "start_time": "2021-11-15T18:55:53.333Z"
   },
   {
    "duration": 775,
    "start_time": "2021-11-15T18:56:26.656Z"
   },
   {
    "duration": 1262,
    "start_time": "2021-11-15T18:56:35.610Z"
   },
   {
    "duration": 771,
    "start_time": "2021-11-15T18:56:42.590Z"
   },
   {
    "duration": 563,
    "start_time": "2021-11-15T18:56:48.225Z"
   },
   {
    "duration": 301,
    "start_time": "2021-11-15T18:56:55.573Z"
   },
   {
    "duration": 505,
    "start_time": "2021-11-15T18:57:01.323Z"
   },
   {
    "duration": 3373,
    "start_time": "2021-11-15T18:57:08.970Z"
   },
   {
    "duration": 5263,
    "start_time": "2021-11-15T18:57:38.639Z"
   },
   {
    "duration": 383,
    "start_time": "2021-11-15T18:57:53.753Z"
   },
   {
    "duration": 30,
    "start_time": "2021-11-15T18:58:13.648Z"
   },
   {
    "duration": 206,
    "start_time": "2021-11-15T18:58:29.864Z"
   },
   {
    "duration": 351,
    "start_time": "2021-11-15T18:59:34.157Z"
   },
   {
    "duration": 32,
    "start_time": "2021-11-15T19:00:40.153Z"
   },
   {
    "duration": 178,
    "start_time": "2021-11-15T19:00:51.289Z"
   },
   {
    "duration": 176,
    "start_time": "2021-11-15T19:01:58.836Z"
   },
   {
    "duration": 1093,
    "start_time": "2021-11-15T19:05:47.813Z"
   },
   {
    "duration": 49,
    "start_time": "2021-11-15T19:05:48.908Z"
   },
   {
    "duration": 15,
    "start_time": "2021-11-15T19:05:48.960Z"
   },
   {
    "duration": 12,
    "start_time": "2021-11-15T19:05:48.977Z"
   },
   {
    "duration": 13,
    "start_time": "2021-11-15T19:05:48.990Z"
   },
   {
    "duration": 4,
    "start_time": "2021-11-15T19:05:49.005Z"
   },
   {
    "duration": 5,
    "start_time": "2021-11-15T19:05:49.010Z"
   },
   {
    "duration": 23,
    "start_time": "2021-11-15T19:05:49.017Z"
   },
   {
    "duration": 9,
    "start_time": "2021-11-15T19:05:49.042Z"
   },
   {
    "duration": 47,
    "start_time": "2021-11-15T19:05:49.053Z"
   },
   {
    "duration": 50768,
    "start_time": "2021-11-15T19:05:49.101Z"
   },
   {
    "duration": 178,
    "start_time": "2021-11-15T19:06:39.871Z"
   },
   {
    "duration": 395,
    "start_time": "2021-11-15T19:06:40.050Z"
   },
   {
    "duration": 10,
    "start_time": "2021-11-15T19:06:40.447Z"
   },
   {
    "duration": 34,
    "start_time": "2021-11-15T19:06:40.458Z"
   },
   {
    "duration": 71122,
    "start_time": "2021-11-15T19:06:40.494Z"
   },
   {
    "duration": 207,
    "start_time": "2021-11-15T19:07:51.618Z"
   },
   {
    "duration": 3,
    "start_time": "2021-11-15T19:07:51.827Z"
   },
   {
    "duration": 29,
    "start_time": "2021-11-15T19:07:51.832Z"
   },
   {
    "duration": 44015,
    "start_time": "2021-11-15T19:07:51.862Z"
   },
   {
    "duration": 177,
    "start_time": "2021-11-15T19:08:35.879Z"
   },
   {
    "duration": 18,
    "start_time": "2021-11-15T19:08:36.057Z"
   },
   {
    "duration": 362,
    "start_time": "2021-11-15T19:08:36.077Z"
   },
   {
    "duration": 3620,
    "start_time": "2021-11-15T19:08:36.441Z"
   },
   {
    "duration": 206,
    "start_time": "2021-11-15T19:08:40.062Z"
   },
   {
    "duration": 199,
    "start_time": "2021-11-15T19:08:40.269Z"
   },
   {
    "duration": 9,
    "start_time": "2021-11-15T19:23:24.185Z"
   },
   {
    "duration": 4,
    "start_time": "2021-11-15T19:23:38.852Z"
   },
   {
    "duration": 4,
    "start_time": "2021-11-15T19:23:42.758Z"
   },
   {
    "duration": 4,
    "start_time": "2021-11-15T19:23:51.755Z"
   },
   {
    "duration": 4,
    "start_time": "2021-11-16T14:38:18.161Z"
   },
   {
    "duration": 1543,
    "start_time": "2021-11-16T15:50:42.894Z"
   },
   {
    "duration": 74,
    "start_time": "2021-11-16T15:50:44.440Z"
   },
   {
    "duration": 29,
    "start_time": "2021-11-16T15:50:44.828Z"
   },
   {
    "duration": 8,
    "start_time": "2021-11-16T15:50:49.089Z"
   },
   {
    "duration": 16,
    "start_time": "2021-11-16T15:50:52.084Z"
   },
   {
    "duration": 7,
    "start_time": "2021-11-16T15:51:03.152Z"
   },
   {
    "duration": 6,
    "start_time": "2021-11-16T15:51:05.107Z"
   },
   {
    "duration": 19,
    "start_time": "2021-11-16T15:51:55.041Z"
   },
   {
    "duration": 33,
    "start_time": "2021-11-16T15:52:00.759Z"
   },
   {
    "duration": 1186,
    "start_time": "2021-11-16T17:57:06.570Z"
   },
   {
    "duration": 47,
    "start_time": "2021-11-16T17:57:09.705Z"
   },
   {
    "duration": 18,
    "start_time": "2021-11-16T17:57:14.209Z"
   },
   {
    "duration": 5,
    "start_time": "2021-11-16T17:57:17.042Z"
   },
   {
    "duration": 10,
    "start_time": "2021-11-16T17:57:18.605Z"
   },
   {
    "duration": 5,
    "start_time": "2021-11-16T17:57:22.338Z"
   },
   {
    "duration": 4,
    "start_time": "2021-11-16T17:57:23.342Z"
   },
   {
    "duration": 21,
    "start_time": "2021-11-16T17:57:37.885Z"
   },
   {
    "duration": 1131,
    "start_time": "2021-11-16T17:57:58.361Z"
   },
   {
    "duration": 16,
    "start_time": "2021-11-16T18:04:56.517Z"
   },
   {
    "duration": 350,
    "start_time": "2021-11-16T18:10:13.623Z"
   },
   {
    "duration": 5,
    "start_time": "2021-11-16T18:10:22.472Z"
   },
   {
    "duration": 241,
    "start_time": "2021-11-16T18:13:08.111Z"
   },
   {
    "duration": 447,
    "start_time": "2021-11-16T18:13:32.837Z"
   },
   {
    "duration": 7,
    "start_time": "2021-11-16T18:13:46.914Z"
   },
   {
    "duration": 58639,
    "start_time": "2021-11-16T18:13:47.426Z"
   },
   {
    "duration": 4,
    "start_time": "2021-11-16T18:15:04.231Z"
   },
   {
    "duration": 53,
    "start_time": "2021-11-16T18:15:18.540Z"
   },
   {
    "duration": 59221,
    "start_time": "2021-11-16T18:15:25.306Z"
   },
   {
    "duration": 83,
    "start_time": "2021-11-16T18:19:17.623Z"
   },
   {
    "duration": 68314,
    "start_time": "2021-11-16T18:19:28.599Z"
   },
   {
    "duration": 61014,
    "start_time": "2021-11-16T18:21:21.405Z"
   },
   {
    "duration": 65442,
    "start_time": "2021-11-16T18:23:27.305Z"
   },
   {
    "duration": 197,
    "start_time": "2021-11-16T18:27:55.436Z"
   },
   {
    "duration": 345,
    "start_time": "2021-11-16T18:29:20.216Z"
   },
   {
    "duration": 403,
    "start_time": "2021-11-16T18:29:35.253Z"
   },
   {
    "duration": 10,
    "start_time": "2021-11-16T18:30:03.028Z"
   },
   {
    "duration": 18,
    "start_time": "2021-11-16T18:31:49.295Z"
   },
   {
    "duration": 22,
    "start_time": "2021-11-16T18:33:19.469Z"
   },
   {
    "duration": 251,
    "start_time": "2021-11-16T18:33:30.697Z"
   },
   {
    "duration": 1399,
    "start_time": "2021-11-16T18:33:51.424Z"
   },
   {
    "duration": 50,
    "start_time": "2021-11-16T18:33:52.824Z"
   },
   {
    "duration": 19,
    "start_time": "2021-11-16T18:33:52.876Z"
   },
   {
    "duration": 5,
    "start_time": "2021-11-16T18:33:53.188Z"
   },
   {
    "duration": 10,
    "start_time": "2021-11-16T18:33:53.641Z"
   },
   {
    "duration": 5,
    "start_time": "2021-11-16T18:33:54.640Z"
   },
   {
    "duration": 5,
    "start_time": "2021-11-16T18:33:54.902Z"
   },
   {
    "duration": 32,
    "start_time": "2021-11-16T18:33:56.033Z"
   },
   {
    "duration": 25,
    "start_time": "2021-11-16T18:33:57.298Z"
   },
   {
    "duration": 32,
    "start_time": "2021-11-16T18:33:59.189Z"
   },
   {
    "duration": 7,
    "start_time": "2021-11-16T18:34:02.733Z"
   },
   {
    "duration": 60754,
    "start_time": "2021-11-16T18:34:03.568Z"
   },
   {
    "duration": 187,
    "start_time": "2021-11-16T18:35:04.324Z"
   },
   {
    "duration": 417,
    "start_time": "2021-11-16T18:35:04.513Z"
   },
   {
    "duration": 9,
    "start_time": "2021-11-16T18:35:04.931Z"
   },
   {
    "duration": 2343,
    "start_time": "2021-11-16T18:35:04.942Z"
   },
   {
    "duration": -116,
    "start_time": "2021-11-16T18:35:07.402Z"
   },
   {
    "duration": 17,
    "start_time": "2021-11-16T18:35:28.986Z"
   },
   {
    "duration": 79874,
    "start_time": "2021-11-16T18:35:32.651Z"
   },
   {
    "duration": 209,
    "start_time": "2021-11-16T18:36:52.527Z"
   },
   {
    "duration": 4,
    "start_time": "2021-11-16T18:38:34.731Z"
   },
   {
    "duration": 282,
    "start_time": "2021-11-16T18:40:57.887Z"
   },
   {
    "duration": 22,
    "start_time": "2021-11-16T18:41:05.255Z"
   },
   {
    "duration": 80308,
    "start_time": "2021-11-16T18:41:36.320Z"
   },
   {
    "duration": 222,
    "start_time": "2021-11-16T18:42:56.630Z"
   },
   {
    "duration": 27,
    "start_time": "2021-11-16T18:43:14.421Z"
   },
   {
    "duration": 40,
    "start_time": "2021-11-16T18:43:56.768Z"
   },
   {
    "duration": 21,
    "start_time": "2021-11-16T18:44:30.705Z"
   },
   {
    "duration": 57283,
    "start_time": "2021-11-16T18:44:57.554Z"
   },
   {
    "duration": 289,
    "start_time": "2021-11-16T18:45:54.839Z"
   },
   {
    "duration": 15,
    "start_time": "2021-11-16T18:46:57.496Z"
   },
   {
    "duration": 459,
    "start_time": "2021-11-16T18:48:13.066Z"
   },
   {
    "duration": 403,
    "start_time": "2021-11-16T18:49:01.559Z"
   },
   {
    "duration": 3465,
    "start_time": "2021-11-16T18:50:13.957Z"
   },
   {
    "duration": 296,
    "start_time": "2021-11-16T18:50:57.299Z"
   },
   {
    "duration": 665,
    "start_time": "2021-11-16T18:51:58.181Z"
   },
   {
    "duration": 382,
    "start_time": "2021-11-16T18:52:51.165Z"
   },
   {
    "duration": 392,
    "start_time": "2021-11-16T18:53:27.713Z"
   },
   {
    "duration": 5,
    "start_time": "2021-11-16T18:54:00.294Z"
   },
   {
    "duration": 5,
    "start_time": "2021-11-16T18:54:12.629Z"
   },
   {
    "duration": 448,
    "start_time": "2021-11-16T18:54:22.356Z"
   },
   {
    "duration": 306,
    "start_time": "2021-11-16T18:54:46.390Z"
   },
   {
    "duration": 372,
    "start_time": "2021-11-16T18:55:27.055Z"
   },
   {
    "duration": 121,
    "start_time": "2021-11-16T18:56:13.640Z"
   },
   {
    "duration": 356,
    "start_time": "2021-11-16T18:56:17.686Z"
   },
   {
    "duration": 583,
    "start_time": "2021-11-16T18:56:35.795Z"
   },
   {
    "duration": 686,
    "start_time": "2021-11-16T18:56:47.203Z"
   },
   {
    "duration": 295,
    "start_time": "2021-11-16T18:57:33.789Z"
   },
   {
    "duration": 518,
    "start_time": "2021-11-16T18:57:52.649Z"
   },
   {
    "duration": 792,
    "start_time": "2021-11-16T18:58:17.815Z"
   },
   {
    "duration": 298,
    "start_time": "2021-11-16T18:58:24.467Z"
   },
   {
    "duration": 476,
    "start_time": "2021-11-16T19:01:37.995Z"
   },
   {
    "duration": 288,
    "start_time": "2021-11-16T19:02:17.829Z"
   },
   {
    "duration": 263,
    "start_time": "2021-11-16T19:09:46.067Z"
   },
   {
    "duration": 265,
    "start_time": "2021-11-16T19:09:58.878Z"
   },
   {
    "duration": 270,
    "start_time": "2021-11-16T19:11:00.439Z"
   },
   {
    "duration": 278,
    "start_time": "2021-11-16T19:11:59.203Z"
   },
   {
    "duration": 314,
    "start_time": "2021-11-16T19:12:10.354Z"
   },
   {
    "duration": 279,
    "start_time": "2021-11-16T19:12:22.103Z"
   },
   {
    "duration": 494,
    "start_time": "2021-11-16T19:12:47.069Z"
   },
   {
    "duration": 2990,
    "start_time": "2021-11-16T19:13:02.001Z"
   },
   {
    "duration": 3323,
    "start_time": "2021-11-16T19:15:22.840Z"
   },
   {
    "duration": 433,
    "start_time": "2021-11-16T19:15:41.177Z"
   },
   {
    "duration": 1216,
    "start_time": "2021-11-16T19:15:55.740Z"
   },
   {
    "duration": 196,
    "start_time": "2021-11-16T19:20:13.188Z"
   },
   {
    "duration": 194,
    "start_time": "2021-11-16T19:21:26.477Z"
   },
   {
    "duration": 193,
    "start_time": "2021-11-16T19:21:34.189Z"
   },
   {
    "duration": 207,
    "start_time": "2021-11-16T19:21:37.588Z"
   },
   {
    "duration": 192,
    "start_time": "2021-11-16T19:21:39.762Z"
   },
   {
    "duration": 178,
    "start_time": "2021-11-16T19:22:55.879Z"
   },
   {
    "duration": 265,
    "start_time": "2021-11-16T19:23:41.227Z"
   },
   {
    "duration": 540,
    "start_time": "2021-11-16T19:24:54.006Z"
   },
   {
    "duration": 246,
    "start_time": "2021-11-16T19:25:10.145Z"
   },
   {
    "duration": 562,
    "start_time": "2021-11-16T19:25:24.470Z"
   },
   {
    "duration": 468,
    "start_time": "2021-11-16T19:27:27.423Z"
   },
   {
    "duration": 360,
    "start_time": "2021-11-16T19:27:58.070Z"
   },
   {
    "duration": 519,
    "start_time": "2021-11-16T19:28:50.481Z"
   },
   {
    "duration": 374,
    "start_time": "2021-11-16T19:29:10.963Z"
   },
   {
    "duration": 175,
    "start_time": "2021-11-16T19:29:25.714Z"
   },
   {
    "duration": 266,
    "start_time": "2021-11-16T19:29:35.247Z"
   },
   {
    "duration": 162,
    "start_time": "2021-11-16T19:33:43.985Z"
   },
   {
    "duration": 1060,
    "start_time": "2021-11-16T19:33:50.446Z"
   },
   {
    "duration": 50,
    "start_time": "2021-11-16T19:33:51.507Z"
   },
   {
    "duration": 16,
    "start_time": "2021-11-16T19:33:51.559Z"
   },
   {
    "duration": 12,
    "start_time": "2021-11-16T19:33:51.576Z"
   },
   {
    "duration": 10,
    "start_time": "2021-11-16T19:33:51.590Z"
   },
   {
    "duration": 3,
    "start_time": "2021-11-16T19:33:51.602Z"
   },
   {
    "duration": 4,
    "start_time": "2021-11-16T19:33:51.607Z"
   },
   {
    "duration": 22,
    "start_time": "2021-11-16T19:33:51.613Z"
   },
   {
    "duration": 16,
    "start_time": "2021-11-16T19:33:51.637Z"
   },
   {
    "duration": 48,
    "start_time": "2021-11-16T19:33:51.655Z"
   },
   {
    "duration": 5,
    "start_time": "2021-11-16T19:33:51.704Z"
   },
   {
    "duration": 121945,
    "start_time": "2021-11-16T19:33:51.710Z"
   },
   {
    "duration": 208,
    "start_time": "2021-11-16T19:35:53.657Z"
   },
   {
    "duration": 454,
    "start_time": "2021-11-16T19:35:53.867Z"
   },
   {
    "duration": 9,
    "start_time": "2021-11-16T19:35:54.323Z"
   },
   {
    "duration": 16,
    "start_time": "2021-11-16T19:35:54.334Z"
   },
   {
    "duration": 1356,
    "start_time": "2021-11-16T19:37:45.759Z"
   },
   {
    "duration": 57,
    "start_time": "2021-11-16T19:37:47.117Z"
   },
   {
    "duration": 29,
    "start_time": "2021-11-16T19:37:47.176Z"
   },
   {
    "duration": 5,
    "start_time": "2021-11-16T19:37:47.207Z"
   },
   {
    "duration": 17,
    "start_time": "2021-11-16T19:37:47.214Z"
   },
   {
    "duration": 5,
    "start_time": "2021-11-16T19:37:47.232Z"
   },
   {
    "duration": 4,
    "start_time": "2021-11-16T19:37:47.239Z"
   },
   {
    "duration": 66,
    "start_time": "2021-11-16T19:37:47.246Z"
   },
   {
    "duration": 23,
    "start_time": "2021-11-16T19:37:47.315Z"
   },
   {
    "duration": 55,
    "start_time": "2021-11-16T19:37:47.341Z"
   },
   {
    "duration": 6,
    "start_time": "2021-11-16T19:37:47.398Z"
   },
   {
    "duration": 88832,
    "start_time": "2021-11-16T19:37:47.407Z"
   },
   {
    "duration": 198,
    "start_time": "2021-11-16T19:39:16.241Z"
   },
   {
    "duration": 494,
    "start_time": "2021-11-16T19:39:16.441Z"
   },
   {
    "duration": 11,
    "start_time": "2021-11-16T19:39:16.937Z"
   },
   {
    "duration": 20,
    "start_time": "2021-11-16T19:39:16.950Z"
   },
   {
    "duration": 124037,
    "start_time": "2021-11-16T19:39:16.971Z"
   },
   {
    "duration": 206,
    "start_time": "2021-11-16T19:41:21.010Z"
   },
   {
    "duration": 4,
    "start_time": "2021-11-16T19:41:21.217Z"
   },
   {
    "duration": 27,
    "start_time": "2021-11-16T19:41:21.223Z"
   },
   {
    "duration": 83618,
    "start_time": "2021-11-16T19:41:21.251Z"
   },
   {
    "duration": 374,
    "start_time": "2021-11-16T19:42:44.871Z"
   },
   {
    "duration": 20,
    "start_time": "2021-11-16T19:42:45.249Z"
   },
   {
    "duration": 124,
    "start_time": "2021-11-16T19:42:45.270Z"
   },
   {
    "duration": 545,
    "start_time": "2021-11-16T19:42:45.399Z"
   },
   {
    "duration": 1253,
    "start_time": "2021-11-16T19:43:49.491Z"
   },
   {
    "duration": 49,
    "start_time": "2021-11-16T19:43:50.746Z"
   },
   {
    "duration": 19,
    "start_time": "2021-11-16T19:43:50.797Z"
   },
   {
    "duration": 8,
    "start_time": "2021-11-16T19:43:50.818Z"
   },
   {
    "duration": 11,
    "start_time": "2021-11-16T19:43:50.828Z"
   },
   {
    "duration": 4,
    "start_time": "2021-11-16T19:43:50.841Z"
   },
   {
    "duration": 8,
    "start_time": "2021-11-16T19:43:50.847Z"
   },
   {
    "duration": 52,
    "start_time": "2021-11-16T19:43:50.858Z"
   },
   {
    "duration": 17,
    "start_time": "2021-11-16T19:43:50.912Z"
   },
   {
    "duration": 31,
    "start_time": "2021-11-16T19:43:50.931Z"
   },
   {
    "duration": 28,
    "start_time": "2021-11-16T19:43:50.964Z"
   },
   {
    "duration": 79254,
    "start_time": "2021-11-16T19:43:50.994Z"
   },
   {
    "duration": 202,
    "start_time": "2021-11-16T19:45:10.250Z"
   },
   {
    "duration": 557,
    "start_time": "2021-11-16T19:45:10.454Z"
   },
   {
    "duration": 13,
    "start_time": "2021-11-16T19:45:11.013Z"
   },
   {
    "duration": 17,
    "start_time": "2021-11-16T19:45:11.028Z"
   },
   {
    "duration": 82274,
    "start_time": "2021-11-16T19:45:11.047Z"
   },
   {
    "duration": 297,
    "start_time": "2021-11-16T19:46:33.323Z"
   },
   {
    "duration": 8,
    "start_time": "2021-11-16T19:46:33.622Z"
   },
   {
    "duration": 42,
    "start_time": "2021-11-16T19:46:33.632Z"
   },
   {
    "duration": 1372,
    "start_time": "2021-11-16T19:47:32.646Z"
   },
   {
    "duration": 65,
    "start_time": "2021-11-16T19:47:34.023Z"
   },
   {
    "duration": 31,
    "start_time": "2021-11-16T19:47:34.090Z"
   },
   {
    "duration": 6,
    "start_time": "2021-11-16T19:47:34.122Z"
   },
   {
    "duration": 15,
    "start_time": "2021-11-16T19:47:34.129Z"
   },
   {
    "duration": 5,
    "start_time": "2021-11-16T19:47:34.145Z"
   },
   {
    "duration": 5,
    "start_time": "2021-11-16T19:47:34.151Z"
   },
   {
    "duration": 50,
    "start_time": "2021-11-16T19:47:34.159Z"
   },
   {
    "duration": 23,
    "start_time": "2021-11-16T19:47:34.211Z"
   },
   {
    "duration": 31,
    "start_time": "2021-11-16T19:47:34.238Z"
   },
   {
    "duration": 18,
    "start_time": "2021-11-16T19:47:34.271Z"
   },
   {
    "duration": 70928,
    "start_time": "2021-11-16T19:47:34.291Z"
   },
   {
    "duration": 283,
    "start_time": "2021-11-16T19:48:45.221Z"
   },
   {
    "duration": 579,
    "start_time": "2021-11-16T19:48:45.506Z"
   },
   {
    "duration": 12,
    "start_time": "2021-11-16T19:48:46.087Z"
   },
   {
    "duration": 45,
    "start_time": "2021-11-16T19:48:46.101Z"
   },
   {
    "duration": 81748,
    "start_time": "2021-11-16T19:48:46.148Z"
   },
   {
    "duration": 206,
    "start_time": "2021-11-16T19:50:07.898Z"
   },
   {
    "duration": 4,
    "start_time": "2021-11-16T19:50:08.106Z"
   },
   {
    "duration": 56,
    "start_time": "2021-11-16T19:50:08.112Z"
   },
   {
    "duration": 1408,
    "start_time": "2021-11-16T19:51:14.457Z"
   },
   {
    "duration": 64,
    "start_time": "2021-11-16T19:51:15.867Z"
   },
   {
    "duration": 23,
    "start_time": "2021-11-16T19:51:15.934Z"
   },
   {
    "duration": 7,
    "start_time": "2021-11-16T19:51:15.959Z"
   },
   {
    "duration": 23,
    "start_time": "2021-11-16T19:51:15.967Z"
   },
   {
    "duration": 5,
    "start_time": "2021-11-16T19:51:15.992Z"
   },
   {
    "duration": 6,
    "start_time": "2021-11-16T19:51:15.998Z"
   },
   {
    "duration": 31,
    "start_time": "2021-11-16T19:51:16.006Z"
   },
   {
    "duration": 53,
    "start_time": "2021-11-16T19:51:16.039Z"
   },
   {
    "duration": 32,
    "start_time": "2021-11-16T19:51:16.094Z"
   },
   {
    "duration": 6,
    "start_time": "2021-11-16T19:51:16.128Z"
   },
   {
    "duration": 62655,
    "start_time": "2021-11-16T19:51:16.136Z"
   },
   {
    "duration": 192,
    "start_time": "2021-11-16T19:52:18.793Z"
   },
   {
    "duration": 450,
    "start_time": "2021-11-16T19:52:18.988Z"
   },
   {
    "duration": 11,
    "start_time": "2021-11-16T19:52:19.440Z"
   },
   {
    "duration": 58,
    "start_time": "2021-11-16T19:52:19.454Z"
   },
   {
    "duration": 86657,
    "start_time": "2021-11-16T19:52:19.515Z"
   },
   {
    "duration": 210,
    "start_time": "2021-11-16T19:53:46.174Z"
   },
   {
    "duration": 1088,
    "start_time": "2021-11-16T19:54:34.408Z"
   },
   {
    "duration": 50,
    "start_time": "2021-11-16T19:54:35.498Z"
   },
   {
    "duration": 17,
    "start_time": "2021-11-16T19:54:35.550Z"
   },
   {
    "duration": 6,
    "start_time": "2021-11-16T19:54:35.569Z"
   },
   {
    "duration": 19,
    "start_time": "2021-11-16T19:54:35.577Z"
   },
   {
    "duration": 10,
    "start_time": "2021-11-16T19:54:35.598Z"
   },
   {
    "duration": 5,
    "start_time": "2021-11-16T19:54:35.609Z"
   },
   {
    "duration": 24,
    "start_time": "2021-11-16T19:54:35.616Z"
   },
   {
    "duration": 15,
    "start_time": "2021-11-16T19:54:35.643Z"
   },
   {
    "duration": 21,
    "start_time": "2021-11-16T19:54:35.688Z"
   },
   {
    "duration": 7,
    "start_time": "2021-11-16T19:54:35.711Z"
   },
   {
    "duration": 95165,
    "start_time": "2021-11-16T19:54:35.719Z"
   },
   {
    "duration": 190,
    "start_time": "2021-11-16T19:56:10.888Z"
   },
   {
    "duration": 477,
    "start_time": "2021-11-16T19:56:11.088Z"
   },
   {
    "duration": 12,
    "start_time": "2021-11-16T19:56:11.567Z"
   },
   {
    "duration": 71,
    "start_time": "2021-11-16T19:56:11.581Z"
   },
   {
    "duration": 125511,
    "start_time": "2021-11-16T19:56:11.654Z"
   },
   {
    "duration": 293,
    "start_time": "2021-11-16T19:58:17.167Z"
   },
   {
    "duration": 5,
    "start_time": "2021-11-16T19:58:17.462Z"
   },
   {
    "duration": 78,
    "start_time": "2021-11-16T19:58:17.469Z"
   },
   {
    "duration": 67626,
    "start_time": "2021-11-16T19:58:17.549Z"
   },
   {
    "duration": 217,
    "start_time": "2021-11-16T19:59:25.177Z"
   },
   {
    "duration": 21,
    "start_time": "2021-11-16T19:59:25.398Z"
   },
   {
    "duration": 84,
    "start_time": "2021-11-16T19:59:25.421Z"
   },
   {
    "duration": 457,
    "start_time": "2021-11-16T19:59:25.587Z"
   },
   {
    "duration": 1105,
    "start_time": "2021-11-22T14:55:04.987Z"
   },
   {
    "duration": 61,
    "start_time": "2021-11-22T14:55:09.470Z"
   },
   {
    "duration": 17,
    "start_time": "2021-11-22T14:55:13.360Z"
   },
   {
    "duration": 5,
    "start_time": "2021-11-22T14:55:15.760Z"
   },
   {
    "duration": 10,
    "start_time": "2021-11-22T14:55:19.977Z"
   },
   {
    "duration": 4,
    "start_time": "2021-11-22T14:55:26.245Z"
   },
   {
    "duration": 4,
    "start_time": "2021-11-22T14:55:27.174Z"
   },
   {
    "duration": 20,
    "start_time": "2021-11-22T14:55:35.159Z"
   },
   {
    "duration": 16,
    "start_time": "2021-11-22T14:55:46.131Z"
   },
   {
    "duration": 22,
    "start_time": "2021-11-22T14:56:01.765Z"
   },
   {
    "duration": 5,
    "start_time": "2021-11-22T14:56:08.498Z"
   },
   {
    "duration": 75132,
    "start_time": "2021-11-22T14:56:13.776Z"
   },
   {
    "duration": 178,
    "start_time": "2021-11-22T14:57:42.473Z"
   },
   {
    "duration": 528,
    "start_time": "2021-11-22T14:57:49.489Z"
   },
   {
    "duration": 13,
    "start_time": "2021-11-22T14:57:55.017Z"
   },
   {
    "duration": 45,
    "start_time": "2021-11-22T14:58:13.768Z"
   },
   {
    "duration": 1476,
    "start_time": "2021-11-22T14:59:45.678Z"
   },
   {
    "duration": 70,
    "start_time": "2021-11-22T14:59:47.156Z"
   },
   {
    "duration": 27,
    "start_time": "2021-11-22T14:59:47.229Z"
   },
   {
    "duration": 5,
    "start_time": "2021-11-22T14:59:47.258Z"
   },
   {
    "duration": 26,
    "start_time": "2021-11-22T14:59:47.265Z"
   },
   {
    "duration": 5,
    "start_time": "2021-11-22T14:59:47.293Z"
   },
   {
    "duration": 4,
    "start_time": "2021-11-22T14:59:47.300Z"
   },
   {
    "duration": 20,
    "start_time": "2021-11-22T14:59:47.306Z"
   },
   {
    "duration": 15,
    "start_time": "2021-11-22T14:59:47.328Z"
   },
   {
    "duration": 47,
    "start_time": "2021-11-22T14:59:47.344Z"
   },
   {
    "duration": 5,
    "start_time": "2021-11-22T14:59:47.392Z"
   },
   {
    "duration": 75999,
    "start_time": "2021-11-22T14:59:47.398Z"
   },
   {
    "duration": 178,
    "start_time": "2021-11-22T15:01:03.398Z"
   },
   {
    "duration": 357,
    "start_time": "2021-11-22T15:01:03.577Z"
   },
   {
    "duration": 8,
    "start_time": "2021-11-22T15:01:03.935Z"
   },
   {
    "duration": 60,
    "start_time": "2021-11-22T15:01:03.945Z"
   },
   {
    "duration": 99943,
    "start_time": "2021-11-22T15:01:04.007Z"
   },
   {
    "duration": 193,
    "start_time": "2021-11-22T15:02:43.952Z"
   },
   {
    "duration": 4,
    "start_time": "2021-11-22T15:05:13.726Z"
   },
   {
    "duration": 28,
    "start_time": "2021-11-22T15:06:03.368Z"
   },
   {
    "duration": 63883,
    "start_time": "2021-11-22T15:06:05.808Z"
   },
   {
    "duration": 202,
    "start_time": "2021-11-22T15:07:09.693Z"
   },
   {
    "duration": 15,
    "start_time": "2021-11-22T15:07:51.733Z"
   },
   {
    "duration": 13,
    "start_time": "2021-11-22T15:08:04.075Z"
   },
   {
    "duration": 43581,
    "start_time": "2021-11-22T15:08:07.116Z"
   },
   {
    "duration": 198,
    "start_time": "2021-11-22T15:08:50.699Z"
   },
   {
    "duration": 64121,
    "start_time": "2021-11-22T15:10:13.970Z"
   },
   {
    "duration": 350,
    "start_time": "2021-11-22T15:11:50.305Z"
   },
   {
    "duration": 353,
    "start_time": "2021-11-22T15:11:58.083Z"
   },
   {
    "duration": 1065,
    "start_time": "2021-11-22T15:12:22.741Z"
   },
   {
    "duration": 235,
    "start_time": "2021-11-22T15:12:45.273Z"
   },
   {
    "duration": 245,
    "start_time": "2021-11-22T15:13:08.536Z"
   },
   {
    "duration": 249,
    "start_time": "2021-11-22T15:17:43.934Z"
   },
   {
    "duration": 242,
    "start_time": "2021-11-22T15:18:18.368Z"
   }
  ],
  "kernelspec": {
   "display_name": "Python 3 (ipykernel)",
   "language": "python",
   "name": "python3"
  },
  "language_info": {
   "codemirror_mode": {
    "name": "ipython",
    "version": 3
   },
   "file_extension": ".py",
   "mimetype": "text/x-python",
   "name": "python",
   "nbconvert_exporter": "python",
   "pygments_lexer": "ipython3",
   "version": "3.11.3"
  },
  "toc": {
   "base_numbering": 1,
   "nav_menu": {},
   "number_sections": true,
   "sideBar": true,
   "skip_h1_title": true,
   "title_cell": "Содержание",
   "title_sidebar": "Contents",
   "toc_cell": true,
   "toc_position": {},
   "toc_section_display": true,
   "toc_window_display": false
  }
 },
 "nbformat": 4,
 "nbformat_minor": 2
}
